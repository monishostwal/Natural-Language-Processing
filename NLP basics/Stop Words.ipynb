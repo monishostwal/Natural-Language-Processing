{
 "cells": [
  {
   "cell_type": "code",
   "execution_count": 2,
   "metadata": {},
   "outputs": [],
   "source": [
    "import spacy"
   ]
  },
  {
   "cell_type": "code",
   "execution_count": 3,
   "metadata": {},
   "outputs": [],
   "source": [
    "nlp=spacy.load('en_core_web_sm')"
   ]
  },
  {
   "cell_type": "code",
   "execution_count": 3,
   "metadata": {},
   "outputs": [
    {
     "name": "stdout",
     "output_type": "stream",
     "text": [
      "{\"'d\", 'when', 'here', '‘re', 'are', 'might', 'what', '‘ll', 'she', 'formerly', 'same', 'be', 'empty', 'eleven', 'show', '’d', 'whose', 'over', 'whereby', 'more', 'hereafter', 'with', 'could', 'the', 'amount', 'along', 'full', 'should', 'after', 'only', 'toward', 'otherwise', 'whom', 'thereafter', 'n’t', 'well', 'regarding', 'again', 'per', 'whether', 'afterwards', 'ourselves', \"'s\", 'its', 'onto', '’ve', 'yet', 'as', 'but', 'hundred', 'may', 'now', 'others', 'nothing', 'seeming', 'neither', 'below', 'hereby', 'sometimes', 'where', 'because', 'thereby', 'whenever', 'once', 'even', 'say', 'whoever', 'above', '’ll', 'doing', 'these', 'done', 'one', 'them', 'everywhere', 'become', 'has', 'always', 'whereas', 'became', 'bottom', 'indeed', 'all', 'meanwhile', 'whither', 'wherein', 'four', 'an', 'namely', 'much', 'less', 'any', '’s', 'twelve', 'nor', 'every', 'just', 'many', 'via', 'would', '’m', 'a', 'take', 'been', 'please', 'than', 'which', 'due', 'either', 'to', 'anyone', 'whereafter', 'moreover', 'from', 'fifteen', 'about', 'had', 'latterly', 'off', 'out', 'other', 'really', 'anywhere', 'was', 'sometime', 'must', 'further', 'against', 'anyhow', 'give', 'hers', 'make', 'alone', 'therein', 'herein', 'made', 'around', 'last', 'together', 'whereupon', 'can', 'thereupon', 'between', 'those', 'not', 'name', 'several', 'however', 'and', 'besides', 'do', 'that', \"n't\", 'noone', '‘m', '‘d', 'how', 'him', 'own', 'am', 'ca', 'there', 'get', 'part', 'he', 'unless', 'six', 'will', 'else', 'anything', 'becomes', 'why', \"'re\", 'elsewhere', 'among', 'until', 'three', 'therefore', 'does', 'least', 'across', '‘ve', 'although', '’re', 'your', 'hereupon', 'often', 'up', 'did', 'in', 'top', 'call', \"'ll\", 'next', 'nobody', 'upon', '‘s', 'n‘t', 'beyond', 'nevertheless', 'nine', 'yours', 'such', 'also', 'their', 'we', 'wherever', 'since', 'yourself', 'another', 'without', 'for', 'if', 'keep', 'except', 'me', 'various', 'mine', \"'ve\", 'though', 'before', 'you', 'enough', 'it', 'were', 'on', 'under', 'anyway', 'hence', 'while', 'they', 'towards', 'five', 'ours', 'sixty', 'through', 'then', 'somehow', 'two', 'behind', 'put', 'serious', 'quite', 'whence', 'i', 'see', 'who', 'amongst', 'fifty', 'have', 'something', 'ever', 'mostly', 'whatever', 'move', 'thus', 'ten', 'eight', 'forty', 'into', 'seem', 'beside', 'never', 'side', 'already', 'first', 'herself', 'throughout', 'his', 'seems', 'being', 'using', 'becoming', 'within', 'front', 'rather', 'himself', 'perhaps', 'at', 'each', 'thru', 'third', 'by', 'twenty', 'or', 'her', 'still', 'us', 'whole', 'everything', 'very', 'someone', 'most', 'some', 'thence', 'used', 'somewhere', 'is', 'few', 'of', 'my', 'former', 'itself', 'almost', 'beforehand', 'our', 'myself', 're', 'everyone', 'latter', 'so', 'back', 'during', 'no', 'go', 'too', \"'m\", 'seemed', 'this', 'themselves', 'both', 'nowhere', 'down', 'cannot', 'none', 'yourselves'}\n"
     ]
    }
   ],
   "source": [
    "print(nlp.Defaults.stop_words)"
   ]
  },
  {
   "cell_type": "code",
   "execution_count": 4,
   "metadata": {},
   "outputs": [
    {
     "name": "stdout",
     "output_type": "stream",
     "text": [
      "326\n"
     ]
    }
   ],
   "source": [
    "print(len(nlp.Defaults.stop_words))"
   ]
  },
  {
   "cell_type": "code",
   "execution_count": 5,
   "metadata": {},
   "outputs": [
    {
     "data": {
      "text/plain": [
       "True"
      ]
     },
     "execution_count": 5,
     "metadata": {},
     "output_type": "execute_result"
    }
   ],
   "source": [
    "nlp.vocab['is'].is_stop"
   ]
  },
  {
   "cell_type": "code",
   "execution_count": 6,
   "metadata": {},
   "outputs": [
    {
     "data": {
      "text/plain": [
       "False"
      ]
     },
     "execution_count": 6,
     "metadata": {},
     "output_type": "execute_result"
    }
   ],
   "source": [
    "nlp.vocab['mystery'].is_stop"
   ]
  },
  {
   "cell_type": "code",
   "execution_count": 7,
   "metadata": {},
   "outputs": [
    {
     "data": {
      "text/plain": [
       "False"
      ]
     },
     "execution_count": 7,
     "metadata": {},
     "output_type": "execute_result"
    }
   ],
   "source": [
    "nlp.vocab['monish'].is_stop"
   ]
  },
  {
   "cell_type": "code",
   "execution_count": 10,
   "metadata": {},
   "outputs": [],
   "source": [
    "nlp.Defaults.stop_words.add('monish')\n",
    "nlp.vocab['monish'].is_stop=True"
   ]
  },
  {
   "cell_type": "code",
   "execution_count": 11,
   "metadata": {},
   "outputs": [
    {
     "data": {
      "text/plain": [
       "True"
      ]
     },
     "execution_count": 11,
     "metadata": {},
     "output_type": "execute_result"
    }
   ],
   "source": [
    "nlp.vocab['monish'].is_stop"
   ]
  },
  {
   "cell_type": "code",
   "execution_count": 12,
   "metadata": {},
   "outputs": [
    {
     "data": {
      "text/plain": [
       "327"
      ]
     },
     "execution_count": 12,
     "metadata": {},
     "output_type": "execute_result"
    }
   ],
   "source": [
    "len(nlp.Defaults.stop_words)"
   ]
  },
  {
   "cell_type": "code",
   "execution_count": 13,
   "metadata": {},
   "outputs": [],
   "source": [
    "nlp.Defaults.stop_words.remove('beyond')"
   ]
  },
  {
   "cell_type": "code",
   "execution_count": 15,
   "metadata": {},
   "outputs": [],
   "source": [
    "nlp.vocab['beyond'].is_stop=False\n"
   ]
  },
  {
   "cell_type": "code",
   "execution_count": 17,
   "metadata": {},
   "outputs": [
    {
     "data": {
      "text/plain": [
       "False"
      ]
     },
     "execution_count": 17,
     "metadata": {},
     "output_type": "execute_result"
    }
   ],
   "source": [
    "nlp.vocab['beyond'].is_stop"
   ]
  },
  {
   "cell_type": "code",
   "execution_count": 1,
   "metadata": {},
   "outputs": [],
   "source": [
    "listt=['monish','is','a','boy']"
   ]
  },
  {
   "cell_type": "code",
   "execution_count": 6,
   "metadata": {},
   "outputs": [
    {
     "data": {
      "text/plain": [
       "True"
      ]
     },
     "execution_count": 6,
     "metadata": {},
     "output_type": "execute_result"
    }
   ],
   "source": [
    "nlp.vocab[listt[1]].is_stop"
   ]
  },
  {
   "cell_type": "code",
   "execution_count": null,
   "metadata": {},
   "outputs": [],
   "source": []
  }
 ],
 "metadata": {
  "kernelspec": {
   "display_name": "Python 3",
   "language": "python",
   "name": "python3"
  },
  "language_info": {
   "codemirror_mode": {
    "name": "ipython",
    "version": 3
   },
   "file_extension": ".py",
   "mimetype": "text/x-python",
   "name": "python",
   "nbconvert_exporter": "python",
   "pygments_lexer": "ipython3",
   "version": "3.7.3"
  }
 },
 "nbformat": 4,
 "nbformat_minor": 2
}
