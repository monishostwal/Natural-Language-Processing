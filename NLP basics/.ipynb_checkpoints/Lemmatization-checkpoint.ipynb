{
 "cells": [
  {
   "cell_type": "code",
   "execution_count": 3,
   "metadata": {},
   "outputs": [],
   "source": [
    "import spacy\n",
    "nlp=spacy.load('en_core_web_sm')"
   ]
  },
  {
   "cell_type": "code",
   "execution_count": 5,
   "metadata": {},
   "outputs": [],
   "source": [
    "doc1=nlp('I am a runner running in a race because I love to run since I ran today.')"
   ]
  },
  {
   "cell_type": "code",
   "execution_count": 7,
   "metadata": {},
   "outputs": [
    {
     "name": "stdout",
     "output_type": "stream",
     "text": [
      "I -----------> 561228191312463089 ------------> -PRON-\n",
      "am -----------> 10382539506755952630 ------------> be\n",
      "a -----------> 11901859001352538922 ------------> a\n",
      "runner -----------> 12640964157389618806 ------------> runner\n",
      "running -----------> 12767647472892411841 ------------> run\n",
      "in -----------> 3002984154512732771 ------------> in\n",
      "a -----------> 11901859001352538922 ------------> a\n",
      "race -----------> 8048469955494714898 ------------> race\n",
      "because -----------> 16950148841647037698 ------------> because\n",
      "I -----------> 561228191312463089 ------------> -PRON-\n",
      "love -----------> 3702023516439754181 ------------> love\n",
      "to -----------> 3791531372978436496 ------------> to\n",
      "run -----------> 12767647472892411841 ------------> run\n",
      "since -----------> 10066841407251338481 ------------> since\n",
      "I -----------> 561228191312463089 ------------> -PRON-\n",
      "ran -----------> 12767647472892411841 ------------> run\n",
      "today -----------> 11042482332948150395 ------------> today\n",
      ". -----------> 12646065887601541794 ------------> .\n"
     ]
    }
   ],
   "source": [
    "for token in doc1:\n",
    "    print(token.text,\"----------->\",token.lemma,'------------>',token.lemma_)"
   ]
  },
  {
   "cell_type": "code",
   "execution_count": null,
   "metadata": {},
   "outputs": [],
   "source": []
  }
 ],
 "metadata": {
  "kernelspec": {
   "display_name": "Python 3",
   "language": "python",
   "name": "python3"
  },
  "language_info": {
   "codemirror_mode": {
    "name": "ipython",
    "version": 3
   },
   "file_extension": ".py",
   "mimetype": "text/x-python",
   "name": "python",
   "nbconvert_exporter": "python",
   "pygments_lexer": "ipython3",
   "version": "3.7.3"
  }
 },
 "nbformat": 4,
 "nbformat_minor": 2
}
