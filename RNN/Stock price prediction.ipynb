{
 "cells": [
  {
   "cell_type": "code",
   "execution_count": 1,
   "metadata": {},
   "outputs": [],
   "source": [
    "import pandas_datareader as pdr"
   ]
  },
  {
   "cell_type": "code",
   "execution_count": 2,
   "metadata": {},
   "outputs": [],
   "source": [
    "df=pdr.get_data_tiingo('Gold',api_key='2b0cb9d53c6c85589917246bec809d28fd8510ef')"
   ]
  },
  {
   "cell_type": "code",
   "execution_count": 3,
   "metadata": {},
   "outputs": [
    {
     "data": {
      "text/html": [
       "<div>\n",
       "<style scoped>\n",
       "    .dataframe tbody tr th:only-of-type {\n",
       "        vertical-align: middle;\n",
       "    }\n",
       "\n",
       "    .dataframe tbody tr th {\n",
       "        vertical-align: top;\n",
       "    }\n",
       "\n",
       "    .dataframe thead th {\n",
       "        text-align: right;\n",
       "    }\n",
       "</style>\n",
       "<table border=\"1\" class=\"dataframe\">\n",
       "  <thead>\n",
       "    <tr style=\"text-align: right;\">\n",
       "      <th></th>\n",
       "      <th></th>\n",
       "      <th>close</th>\n",
       "      <th>high</th>\n",
       "      <th>low</th>\n",
       "      <th>open</th>\n",
       "      <th>volume</th>\n",
       "      <th>adjClose</th>\n",
       "      <th>adjHigh</th>\n",
       "      <th>adjLow</th>\n",
       "      <th>adjOpen</th>\n",
       "      <th>adjVolume</th>\n",
       "      <th>divCash</th>\n",
       "      <th>splitFactor</th>\n",
       "    </tr>\n",
       "    <tr>\n",
       "      <th>symbol</th>\n",
       "      <th>date</th>\n",
       "      <th></th>\n",
       "      <th></th>\n",
       "      <th></th>\n",
       "      <th></th>\n",
       "      <th></th>\n",
       "      <th></th>\n",
       "      <th></th>\n",
       "      <th></th>\n",
       "      <th></th>\n",
       "      <th></th>\n",
       "      <th></th>\n",
       "      <th></th>\n",
       "    </tr>\n",
       "  </thead>\n",
       "  <tbody>\n",
       "    <tr>\n",
       "      <th rowspan=\"11\" valign=\"top\">Gold</th>\n",
       "      <th>2015-06-08 00:00:00+00:00</th>\n",
       "      <td>11.46</td>\n",
       "      <td>11.510</td>\n",
       "      <td>11.3000</td>\n",
       "      <td>11.48</td>\n",
       "      <td>10513193</td>\n",
       "      <td>10.925433</td>\n",
       "      <td>10.973101</td>\n",
       "      <td>10.772897</td>\n",
       "      <td>10.944500</td>\n",
       "      <td>10513193</td>\n",
       "      <td>0.0</td>\n",
       "      <td>1.0</td>\n",
       "    </tr>\n",
       "    <tr>\n",
       "      <th>2015-06-09 00:00:00+00:00</th>\n",
       "      <td>11.53</td>\n",
       "      <td>11.710</td>\n",
       "      <td>11.4900</td>\n",
       "      <td>11.57</td>\n",
       "      <td>10324707</td>\n",
       "      <td>10.992168</td>\n",
       "      <td>11.163772</td>\n",
       "      <td>10.954034</td>\n",
       "      <td>11.030302</td>\n",
       "      <td>10324707</td>\n",
       "      <td>0.0</td>\n",
       "      <td>1.0</td>\n",
       "    </tr>\n",
       "    <tr>\n",
       "      <th>2015-06-10 00:00:00+00:00</th>\n",
       "      <td>11.63</td>\n",
       "      <td>11.820</td>\n",
       "      <td>11.5500</td>\n",
       "      <td>11.77</td>\n",
       "      <td>8865322</td>\n",
       "      <td>11.087503</td>\n",
       "      <td>11.268641</td>\n",
       "      <td>11.011235</td>\n",
       "      <td>11.220973</td>\n",
       "      <td>8865322</td>\n",
       "      <td>0.0</td>\n",
       "      <td>1.0</td>\n",
       "    </tr>\n",
       "    <tr>\n",
       "      <th>2015-06-11 00:00:00+00:00</th>\n",
       "      <td>11.27</td>\n",
       "      <td>11.560</td>\n",
       "      <td>11.2500</td>\n",
       "      <td>11.56</td>\n",
       "      <td>8250171</td>\n",
       "      <td>10.744296</td>\n",
       "      <td>11.020769</td>\n",
       "      <td>10.725229</td>\n",
       "      <td>11.020769</td>\n",
       "      <td>8250171</td>\n",
       "      <td>0.0</td>\n",
       "      <td>1.0</td>\n",
       "    </tr>\n",
       "    <tr>\n",
       "      <th>2015-06-12 00:00:00+00:00</th>\n",
       "      <td>11.27</td>\n",
       "      <td>11.455</td>\n",
       "      <td>11.1800</td>\n",
       "      <td>11.25</td>\n",
       "      <td>7176226</td>\n",
       "      <td>10.744296</td>\n",
       "      <td>10.920667</td>\n",
       "      <td>10.658494</td>\n",
       "      <td>10.725229</td>\n",
       "      <td>7176226</td>\n",
       "      <td>0.0</td>\n",
       "      <td>1.0</td>\n",
       "    </tr>\n",
       "    <tr>\n",
       "      <th>...</th>\n",
       "      <td>...</td>\n",
       "      <td>...</td>\n",
       "      <td>...</td>\n",
       "      <td>...</td>\n",
       "      <td>...</td>\n",
       "      <td>...</td>\n",
       "      <td>...</td>\n",
       "      <td>...</td>\n",
       "      <td>...</td>\n",
       "      <td>...</td>\n",
       "      <td>...</td>\n",
       "      <td>...</td>\n",
       "    </tr>\n",
       "    <tr>\n",
       "      <th>2020-05-29 00:00:00+00:00</th>\n",
       "      <td>24.00</td>\n",
       "      <td>24.710</td>\n",
       "      <td>23.9600</td>\n",
       "      <td>24.65</td>\n",
       "      <td>20307537</td>\n",
       "      <td>24.000000</td>\n",
       "      <td>24.710000</td>\n",
       "      <td>23.960000</td>\n",
       "      <td>24.650000</td>\n",
       "      <td>20307537</td>\n",
       "      <td>0.0</td>\n",
       "      <td>1.0</td>\n",
       "    </tr>\n",
       "    <tr>\n",
       "      <th>2020-06-01 00:00:00+00:00</th>\n",
       "      <td>24.78</td>\n",
       "      <td>24.790</td>\n",
       "      <td>24.1000</td>\n",
       "      <td>24.10</td>\n",
       "      <td>16347166</td>\n",
       "      <td>24.780000</td>\n",
       "      <td>24.790000</td>\n",
       "      <td>24.100000</td>\n",
       "      <td>24.100000</td>\n",
       "      <td>16347166</td>\n",
       "      <td>0.0</td>\n",
       "      <td>1.0</td>\n",
       "    </tr>\n",
       "    <tr>\n",
       "      <th>2020-06-02 00:00:00+00:00</th>\n",
       "      <td>23.95</td>\n",
       "      <td>24.830</td>\n",
       "      <td>23.6600</td>\n",
       "      <td>24.82</td>\n",
       "      <td>16029591</td>\n",
       "      <td>23.950000</td>\n",
       "      <td>24.830000</td>\n",
       "      <td>23.660000</td>\n",
       "      <td>24.820000</td>\n",
       "      <td>16029591</td>\n",
       "      <td>0.0</td>\n",
       "      <td>1.0</td>\n",
       "    </tr>\n",
       "    <tr>\n",
       "      <th>2020-06-03 00:00:00+00:00</th>\n",
       "      <td>23.22</td>\n",
       "      <td>23.670</td>\n",
       "      <td>22.7318</td>\n",
       "      <td>23.34</td>\n",
       "      <td>23426144</td>\n",
       "      <td>23.220000</td>\n",
       "      <td>23.670000</td>\n",
       "      <td>22.731800</td>\n",
       "      <td>23.340000</td>\n",
       "      <td>23426144</td>\n",
       "      <td>0.0</td>\n",
       "      <td>1.0</td>\n",
       "    </tr>\n",
       "    <tr>\n",
       "      <th>2020-06-04 00:00:00+00:00</th>\n",
       "      <td>23.43</td>\n",
       "      <td>24.020</td>\n",
       "      <td>23.1800</td>\n",
       "      <td>23.82</td>\n",
       "      <td>21829717</td>\n",
       "      <td>23.430000</td>\n",
       "      <td>24.020000</td>\n",
       "      <td>23.180000</td>\n",
       "      <td>23.820000</td>\n",
       "      <td>21829717</td>\n",
       "      <td>0.0</td>\n",
       "      <td>1.0</td>\n",
       "    </tr>\n",
       "  </tbody>\n",
       "</table>\n",
       "<p>1258 rows × 12 columns</p>\n",
       "</div>"
      ],
      "text/plain": [
       "                                  close    high      low   open    volume  \\\n",
       "symbol date                                                                 \n",
       "Gold   2015-06-08 00:00:00+00:00  11.46  11.510  11.3000  11.48  10513193   \n",
       "       2015-06-09 00:00:00+00:00  11.53  11.710  11.4900  11.57  10324707   \n",
       "       2015-06-10 00:00:00+00:00  11.63  11.820  11.5500  11.77   8865322   \n",
       "       2015-06-11 00:00:00+00:00  11.27  11.560  11.2500  11.56   8250171   \n",
       "       2015-06-12 00:00:00+00:00  11.27  11.455  11.1800  11.25   7176226   \n",
       "...                                 ...     ...      ...    ...       ...   \n",
       "       2020-05-29 00:00:00+00:00  24.00  24.710  23.9600  24.65  20307537   \n",
       "       2020-06-01 00:00:00+00:00  24.78  24.790  24.1000  24.10  16347166   \n",
       "       2020-06-02 00:00:00+00:00  23.95  24.830  23.6600  24.82  16029591   \n",
       "       2020-06-03 00:00:00+00:00  23.22  23.670  22.7318  23.34  23426144   \n",
       "       2020-06-04 00:00:00+00:00  23.43  24.020  23.1800  23.82  21829717   \n",
       "\n",
       "                                   adjClose    adjHigh     adjLow    adjOpen  \\\n",
       "symbol date                                                                    \n",
       "Gold   2015-06-08 00:00:00+00:00  10.925433  10.973101  10.772897  10.944500   \n",
       "       2015-06-09 00:00:00+00:00  10.992168  11.163772  10.954034  11.030302   \n",
       "       2015-06-10 00:00:00+00:00  11.087503  11.268641  11.011235  11.220973   \n",
       "       2015-06-11 00:00:00+00:00  10.744296  11.020769  10.725229  11.020769   \n",
       "       2015-06-12 00:00:00+00:00  10.744296  10.920667  10.658494  10.725229   \n",
       "...                                     ...        ...        ...        ...   \n",
       "       2020-05-29 00:00:00+00:00  24.000000  24.710000  23.960000  24.650000   \n",
       "       2020-06-01 00:00:00+00:00  24.780000  24.790000  24.100000  24.100000   \n",
       "       2020-06-02 00:00:00+00:00  23.950000  24.830000  23.660000  24.820000   \n",
       "       2020-06-03 00:00:00+00:00  23.220000  23.670000  22.731800  23.340000   \n",
       "       2020-06-04 00:00:00+00:00  23.430000  24.020000  23.180000  23.820000   \n",
       "\n",
       "                                  adjVolume  divCash  splitFactor  \n",
       "symbol date                                                        \n",
       "Gold   2015-06-08 00:00:00+00:00   10513193      0.0          1.0  \n",
       "       2015-06-09 00:00:00+00:00   10324707      0.0          1.0  \n",
       "       2015-06-10 00:00:00+00:00    8865322      0.0          1.0  \n",
       "       2015-06-11 00:00:00+00:00    8250171      0.0          1.0  \n",
       "       2015-06-12 00:00:00+00:00    7176226      0.0          1.0  \n",
       "...                                     ...      ...          ...  \n",
       "       2020-05-29 00:00:00+00:00   20307537      0.0          1.0  \n",
       "       2020-06-01 00:00:00+00:00   16347166      0.0          1.0  \n",
       "       2020-06-02 00:00:00+00:00   16029591      0.0          1.0  \n",
       "       2020-06-03 00:00:00+00:00   23426144      0.0          1.0  \n",
       "       2020-06-04 00:00:00+00:00   21829717      0.0          1.0  \n",
       "\n",
       "[1258 rows x 12 columns]"
      ]
     },
     "execution_count": 3,
     "metadata": {},
     "output_type": "execute_result"
    }
   ],
   "source": [
    "df"
   ]
  },
  {
   "cell_type": "code",
   "execution_count": 4,
   "metadata": {},
   "outputs": [
    {
     "data": {
      "text/plain": [
       "pandas.core.frame.DataFrame"
      ]
     },
     "execution_count": 4,
     "metadata": {},
     "output_type": "execute_result"
    }
   ],
   "source": [
    "type(df)"
   ]
  },
  {
   "cell_type": "code",
   "execution_count": 7,
   "metadata": {},
   "outputs": [],
   "source": [
    "df.drop(['adjClose','adjHigh','adjLow','adjOpen','adjVolume','divCash','splitFactor'],axis=1,inplace=True)"
   ]
  },
  {
   "cell_type": "code",
   "execution_count": 14,
   "metadata": {},
   "outputs": [
    {
     "data": {
      "text/html": [
       "<div>\n",
       "<style scoped>\n",
       "    .dataframe tbody tr th:only-of-type {\n",
       "        vertical-align: middle;\n",
       "    }\n",
       "\n",
       "    .dataframe tbody tr th {\n",
       "        vertical-align: top;\n",
       "    }\n",
       "\n",
       "    .dataframe thead th {\n",
       "        text-align: right;\n",
       "    }\n",
       "</style>\n",
       "<table border=\"1\" class=\"dataframe\">\n",
       "  <thead>\n",
       "    <tr style=\"text-align: right;\">\n",
       "      <th></th>\n",
       "      <th></th>\n",
       "      <th>close</th>\n",
       "      <th>high</th>\n",
       "      <th>low</th>\n",
       "      <th>open</th>\n",
       "      <th>volume</th>\n",
       "    </tr>\n",
       "    <tr>\n",
       "      <th>symbol</th>\n",
       "      <th>date</th>\n",
       "      <th></th>\n",
       "      <th></th>\n",
       "      <th></th>\n",
       "      <th></th>\n",
       "      <th></th>\n",
       "    </tr>\n",
       "  </thead>\n",
       "  <tbody>\n",
       "    <tr>\n",
       "      <th rowspan=\"11\" valign=\"top\">Gold</th>\n",
       "      <th>2015-06-08 00:00:00+00:00</th>\n",
       "      <td>11.46</td>\n",
       "      <td>11.510</td>\n",
       "      <td>11.3000</td>\n",
       "      <td>11.48</td>\n",
       "      <td>10513193</td>\n",
       "    </tr>\n",
       "    <tr>\n",
       "      <th>2015-06-09 00:00:00+00:00</th>\n",
       "      <td>11.53</td>\n",
       "      <td>11.710</td>\n",
       "      <td>11.4900</td>\n",
       "      <td>11.57</td>\n",
       "      <td>10324707</td>\n",
       "    </tr>\n",
       "    <tr>\n",
       "      <th>2015-06-10 00:00:00+00:00</th>\n",
       "      <td>11.63</td>\n",
       "      <td>11.820</td>\n",
       "      <td>11.5500</td>\n",
       "      <td>11.77</td>\n",
       "      <td>8865322</td>\n",
       "    </tr>\n",
       "    <tr>\n",
       "      <th>2015-06-11 00:00:00+00:00</th>\n",
       "      <td>11.27</td>\n",
       "      <td>11.560</td>\n",
       "      <td>11.2500</td>\n",
       "      <td>11.56</td>\n",
       "      <td>8250171</td>\n",
       "    </tr>\n",
       "    <tr>\n",
       "      <th>2015-06-12 00:00:00+00:00</th>\n",
       "      <td>11.27</td>\n",
       "      <td>11.455</td>\n",
       "      <td>11.1800</td>\n",
       "      <td>11.25</td>\n",
       "      <td>7176226</td>\n",
       "    </tr>\n",
       "    <tr>\n",
       "      <th>...</th>\n",
       "      <td>...</td>\n",
       "      <td>...</td>\n",
       "      <td>...</td>\n",
       "      <td>...</td>\n",
       "      <td>...</td>\n",
       "    </tr>\n",
       "    <tr>\n",
       "      <th>2020-05-29 00:00:00+00:00</th>\n",
       "      <td>24.00</td>\n",
       "      <td>24.710</td>\n",
       "      <td>23.9600</td>\n",
       "      <td>24.65</td>\n",
       "      <td>20307537</td>\n",
       "    </tr>\n",
       "    <tr>\n",
       "      <th>2020-06-01 00:00:00+00:00</th>\n",
       "      <td>24.78</td>\n",
       "      <td>24.790</td>\n",
       "      <td>24.1000</td>\n",
       "      <td>24.10</td>\n",
       "      <td>16347166</td>\n",
       "    </tr>\n",
       "    <tr>\n",
       "      <th>2020-06-02 00:00:00+00:00</th>\n",
       "      <td>23.95</td>\n",
       "      <td>24.830</td>\n",
       "      <td>23.6600</td>\n",
       "      <td>24.82</td>\n",
       "      <td>16029591</td>\n",
       "    </tr>\n",
       "    <tr>\n",
       "      <th>2020-06-03 00:00:00+00:00</th>\n",
       "      <td>23.22</td>\n",
       "      <td>23.670</td>\n",
       "      <td>22.7318</td>\n",
       "      <td>23.34</td>\n",
       "      <td>23426144</td>\n",
       "    </tr>\n",
       "    <tr>\n",
       "      <th>2020-06-04 00:00:00+00:00</th>\n",
       "      <td>23.43</td>\n",
       "      <td>24.020</td>\n",
       "      <td>23.1800</td>\n",
       "      <td>23.82</td>\n",
       "      <td>21829717</td>\n",
       "    </tr>\n",
       "  </tbody>\n",
       "</table>\n",
       "<p>1258 rows × 5 columns</p>\n",
       "</div>"
      ],
      "text/plain": [
       "                                  close    high      low   open    volume\n",
       "symbol date                                                              \n",
       "Gold   2015-06-08 00:00:00+00:00  11.46  11.510  11.3000  11.48  10513193\n",
       "       2015-06-09 00:00:00+00:00  11.53  11.710  11.4900  11.57  10324707\n",
       "       2015-06-10 00:00:00+00:00  11.63  11.820  11.5500  11.77   8865322\n",
       "       2015-06-11 00:00:00+00:00  11.27  11.560  11.2500  11.56   8250171\n",
       "       2015-06-12 00:00:00+00:00  11.27  11.455  11.1800  11.25   7176226\n",
       "...                                 ...     ...      ...    ...       ...\n",
       "       2020-05-29 00:00:00+00:00  24.00  24.710  23.9600  24.65  20307537\n",
       "       2020-06-01 00:00:00+00:00  24.78  24.790  24.1000  24.10  16347166\n",
       "       2020-06-02 00:00:00+00:00  23.95  24.830  23.6600  24.82  16029591\n",
       "       2020-06-03 00:00:00+00:00  23.22  23.670  22.7318  23.34  23426144\n",
       "       2020-06-04 00:00:00+00:00  23.43  24.020  23.1800  23.82  21829717\n",
       "\n",
       "[1258 rows x 5 columns]"
      ]
     },
     "execution_count": 14,
     "metadata": {},
     "output_type": "execute_result"
    }
   ],
   "source": [
    "df"
   ]
  },
  {
   "cell_type": "code",
   "execution_count": 18,
   "metadata": {},
   "outputs": [],
   "source": [
    "df=df.reset_index()"
   ]
  },
  {
   "cell_type": "code",
   "execution_count": 19,
   "metadata": {},
   "outputs": [
    {
     "data": {
      "text/html": [
       "<div>\n",
       "<style scoped>\n",
       "    .dataframe tbody tr th:only-of-type {\n",
       "        vertical-align: middle;\n",
       "    }\n",
       "\n",
       "    .dataframe tbody tr th {\n",
       "        vertical-align: top;\n",
       "    }\n",
       "\n",
       "    .dataframe thead th {\n",
       "        text-align: right;\n",
       "    }\n",
       "</style>\n",
       "<table border=\"1\" class=\"dataframe\">\n",
       "  <thead>\n",
       "    <tr style=\"text-align: right;\">\n",
       "      <th></th>\n",
       "      <th>symbol</th>\n",
       "      <th>date</th>\n",
       "      <th>close</th>\n",
       "      <th>high</th>\n",
       "      <th>low</th>\n",
       "      <th>open</th>\n",
       "      <th>volume</th>\n",
       "    </tr>\n",
       "  </thead>\n",
       "  <tbody>\n",
       "    <tr>\n",
       "      <th>0</th>\n",
       "      <td>Gold</td>\n",
       "      <td>2015-06-08 00:00:00+00:00</td>\n",
       "      <td>11.46</td>\n",
       "      <td>11.510</td>\n",
       "      <td>11.3000</td>\n",
       "      <td>11.48</td>\n",
       "      <td>10513193</td>\n",
       "    </tr>\n",
       "    <tr>\n",
       "      <th>1</th>\n",
       "      <td>Gold</td>\n",
       "      <td>2015-06-09 00:00:00+00:00</td>\n",
       "      <td>11.53</td>\n",
       "      <td>11.710</td>\n",
       "      <td>11.4900</td>\n",
       "      <td>11.57</td>\n",
       "      <td>10324707</td>\n",
       "    </tr>\n",
       "    <tr>\n",
       "      <th>2</th>\n",
       "      <td>Gold</td>\n",
       "      <td>2015-06-10 00:00:00+00:00</td>\n",
       "      <td>11.63</td>\n",
       "      <td>11.820</td>\n",
       "      <td>11.5500</td>\n",
       "      <td>11.77</td>\n",
       "      <td>8865322</td>\n",
       "    </tr>\n",
       "    <tr>\n",
       "      <th>3</th>\n",
       "      <td>Gold</td>\n",
       "      <td>2015-06-11 00:00:00+00:00</td>\n",
       "      <td>11.27</td>\n",
       "      <td>11.560</td>\n",
       "      <td>11.2500</td>\n",
       "      <td>11.56</td>\n",
       "      <td>8250171</td>\n",
       "    </tr>\n",
       "    <tr>\n",
       "      <th>4</th>\n",
       "      <td>Gold</td>\n",
       "      <td>2015-06-12 00:00:00+00:00</td>\n",
       "      <td>11.27</td>\n",
       "      <td>11.455</td>\n",
       "      <td>11.1800</td>\n",
       "      <td>11.25</td>\n",
       "      <td>7176226</td>\n",
       "    </tr>\n",
       "    <tr>\n",
       "      <th>...</th>\n",
       "      <td>...</td>\n",
       "      <td>...</td>\n",
       "      <td>...</td>\n",
       "      <td>...</td>\n",
       "      <td>...</td>\n",
       "      <td>...</td>\n",
       "      <td>...</td>\n",
       "    </tr>\n",
       "    <tr>\n",
       "      <th>1253</th>\n",
       "      <td>Gold</td>\n",
       "      <td>2020-05-29 00:00:00+00:00</td>\n",
       "      <td>24.00</td>\n",
       "      <td>24.710</td>\n",
       "      <td>23.9600</td>\n",
       "      <td>24.65</td>\n",
       "      <td>20307537</td>\n",
       "    </tr>\n",
       "    <tr>\n",
       "      <th>1254</th>\n",
       "      <td>Gold</td>\n",
       "      <td>2020-06-01 00:00:00+00:00</td>\n",
       "      <td>24.78</td>\n",
       "      <td>24.790</td>\n",
       "      <td>24.1000</td>\n",
       "      <td>24.10</td>\n",
       "      <td>16347166</td>\n",
       "    </tr>\n",
       "    <tr>\n",
       "      <th>1255</th>\n",
       "      <td>Gold</td>\n",
       "      <td>2020-06-02 00:00:00+00:00</td>\n",
       "      <td>23.95</td>\n",
       "      <td>24.830</td>\n",
       "      <td>23.6600</td>\n",
       "      <td>24.82</td>\n",
       "      <td>16029591</td>\n",
       "    </tr>\n",
       "    <tr>\n",
       "      <th>1256</th>\n",
       "      <td>Gold</td>\n",
       "      <td>2020-06-03 00:00:00+00:00</td>\n",
       "      <td>23.22</td>\n",
       "      <td>23.670</td>\n",
       "      <td>22.7318</td>\n",
       "      <td>23.34</td>\n",
       "      <td>23426144</td>\n",
       "    </tr>\n",
       "    <tr>\n",
       "      <th>1257</th>\n",
       "      <td>Gold</td>\n",
       "      <td>2020-06-04 00:00:00+00:00</td>\n",
       "      <td>23.43</td>\n",
       "      <td>24.020</td>\n",
       "      <td>23.1800</td>\n",
       "      <td>23.82</td>\n",
       "      <td>21829717</td>\n",
       "    </tr>\n",
       "  </tbody>\n",
       "</table>\n",
       "<p>1258 rows × 7 columns</p>\n",
       "</div>"
      ],
      "text/plain": [
       "     symbol                      date  close    high      low   open    volume\n",
       "0      Gold 2015-06-08 00:00:00+00:00  11.46  11.510  11.3000  11.48  10513193\n",
       "1      Gold 2015-06-09 00:00:00+00:00  11.53  11.710  11.4900  11.57  10324707\n",
       "2      Gold 2015-06-10 00:00:00+00:00  11.63  11.820  11.5500  11.77   8865322\n",
       "3      Gold 2015-06-11 00:00:00+00:00  11.27  11.560  11.2500  11.56   8250171\n",
       "4      Gold 2015-06-12 00:00:00+00:00  11.27  11.455  11.1800  11.25   7176226\n",
       "...     ...                       ...    ...     ...      ...    ...       ...\n",
       "1253   Gold 2020-05-29 00:00:00+00:00  24.00  24.710  23.9600  24.65  20307537\n",
       "1254   Gold 2020-06-01 00:00:00+00:00  24.78  24.790  24.1000  24.10  16347166\n",
       "1255   Gold 2020-06-02 00:00:00+00:00  23.95  24.830  23.6600  24.82  16029591\n",
       "1256   Gold 2020-06-03 00:00:00+00:00  23.22  23.670  22.7318  23.34  23426144\n",
       "1257   Gold 2020-06-04 00:00:00+00:00  23.43  24.020  23.1800  23.82  21829717\n",
       "\n",
       "[1258 rows x 7 columns]"
      ]
     },
     "execution_count": 19,
     "metadata": {},
     "output_type": "execute_result"
    }
   ],
   "source": [
    "df"
   ]
  },
  {
   "cell_type": "code",
   "execution_count": 20,
   "metadata": {},
   "outputs": [],
   "source": [
    "df.drop(['symbol','date'],axis=1,inplace=True)"
   ]
  },
  {
   "cell_type": "code",
   "execution_count": 21,
   "metadata": {},
   "outputs": [
    {
     "data": {
      "text/html": [
       "<div>\n",
       "<style scoped>\n",
       "    .dataframe tbody tr th:only-of-type {\n",
       "        vertical-align: middle;\n",
       "    }\n",
       "\n",
       "    .dataframe tbody tr th {\n",
       "        vertical-align: top;\n",
       "    }\n",
       "\n",
       "    .dataframe thead th {\n",
       "        text-align: right;\n",
       "    }\n",
       "</style>\n",
       "<table border=\"1\" class=\"dataframe\">\n",
       "  <thead>\n",
       "    <tr style=\"text-align: right;\">\n",
       "      <th></th>\n",
       "      <th>close</th>\n",
       "      <th>high</th>\n",
       "      <th>low</th>\n",
       "      <th>open</th>\n",
       "      <th>volume</th>\n",
       "    </tr>\n",
       "  </thead>\n",
       "  <tbody>\n",
       "    <tr>\n",
       "      <th>0</th>\n",
       "      <td>11.46</td>\n",
       "      <td>11.510</td>\n",
       "      <td>11.3000</td>\n",
       "      <td>11.48</td>\n",
       "      <td>10513193</td>\n",
       "    </tr>\n",
       "    <tr>\n",
       "      <th>1</th>\n",
       "      <td>11.53</td>\n",
       "      <td>11.710</td>\n",
       "      <td>11.4900</td>\n",
       "      <td>11.57</td>\n",
       "      <td>10324707</td>\n",
       "    </tr>\n",
       "    <tr>\n",
       "      <th>2</th>\n",
       "      <td>11.63</td>\n",
       "      <td>11.820</td>\n",
       "      <td>11.5500</td>\n",
       "      <td>11.77</td>\n",
       "      <td>8865322</td>\n",
       "    </tr>\n",
       "    <tr>\n",
       "      <th>3</th>\n",
       "      <td>11.27</td>\n",
       "      <td>11.560</td>\n",
       "      <td>11.2500</td>\n",
       "      <td>11.56</td>\n",
       "      <td>8250171</td>\n",
       "    </tr>\n",
       "    <tr>\n",
       "      <th>4</th>\n",
       "      <td>11.27</td>\n",
       "      <td>11.455</td>\n",
       "      <td>11.1800</td>\n",
       "      <td>11.25</td>\n",
       "      <td>7176226</td>\n",
       "    </tr>\n",
       "    <tr>\n",
       "      <th>...</th>\n",
       "      <td>...</td>\n",
       "      <td>...</td>\n",
       "      <td>...</td>\n",
       "      <td>...</td>\n",
       "      <td>...</td>\n",
       "    </tr>\n",
       "    <tr>\n",
       "      <th>1253</th>\n",
       "      <td>24.00</td>\n",
       "      <td>24.710</td>\n",
       "      <td>23.9600</td>\n",
       "      <td>24.65</td>\n",
       "      <td>20307537</td>\n",
       "    </tr>\n",
       "    <tr>\n",
       "      <th>1254</th>\n",
       "      <td>24.78</td>\n",
       "      <td>24.790</td>\n",
       "      <td>24.1000</td>\n",
       "      <td>24.10</td>\n",
       "      <td>16347166</td>\n",
       "    </tr>\n",
       "    <tr>\n",
       "      <th>1255</th>\n",
       "      <td>23.95</td>\n",
       "      <td>24.830</td>\n",
       "      <td>23.6600</td>\n",
       "      <td>24.82</td>\n",
       "      <td>16029591</td>\n",
       "    </tr>\n",
       "    <tr>\n",
       "      <th>1256</th>\n",
       "      <td>23.22</td>\n",
       "      <td>23.670</td>\n",
       "      <td>22.7318</td>\n",
       "      <td>23.34</td>\n",
       "      <td>23426144</td>\n",
       "    </tr>\n",
       "    <tr>\n",
       "      <th>1257</th>\n",
       "      <td>23.43</td>\n",
       "      <td>24.020</td>\n",
       "      <td>23.1800</td>\n",
       "      <td>23.82</td>\n",
       "      <td>21829717</td>\n",
       "    </tr>\n",
       "  </tbody>\n",
       "</table>\n",
       "<p>1258 rows × 5 columns</p>\n",
       "</div>"
      ],
      "text/plain": [
       "      close    high      low   open    volume\n",
       "0     11.46  11.510  11.3000  11.48  10513193\n",
       "1     11.53  11.710  11.4900  11.57  10324707\n",
       "2     11.63  11.820  11.5500  11.77   8865322\n",
       "3     11.27  11.560  11.2500  11.56   8250171\n",
       "4     11.27  11.455  11.1800  11.25   7176226\n",
       "...     ...     ...      ...    ...       ...\n",
       "1253  24.00  24.710  23.9600  24.65  20307537\n",
       "1254  24.78  24.790  24.1000  24.10  16347166\n",
       "1255  23.95  24.830  23.6600  24.82  16029591\n",
       "1256  23.22  23.670  22.7318  23.34  23426144\n",
       "1257  23.43  24.020  23.1800  23.82  21829717\n",
       "\n",
       "[1258 rows x 5 columns]"
      ]
     },
     "execution_count": 21,
     "metadata": {},
     "output_type": "execute_result"
    }
   ],
   "source": [
    "df"
   ]
  },
  {
   "cell_type": "code",
   "execution_count": 22,
   "metadata": {},
   "outputs": [
    {
     "data": {
      "text/plain": [
       "[<matplotlib.lines.Line2D at 0x8cd3326e10>]"
      ]
     },
     "execution_count": 22,
     "metadata": {},
     "output_type": "execute_result"
    },
    {
     "data": {
      "image/png": "[encoded data removed]",
      "text/plain": [
       "<Figure size 432x288 with 1 Axes>"
      ]
     },
     "metadata": {
      "needs_background": "light"
     },
     "output_type": "display_data"
    }
   ],
   "source": [
    "plt.plot(df['open'])"
   ]
  },
  {
   "cell_type": "code",
   "execution_count": 23,
   "metadata": {},
   "outputs": [
    {
     "data": {
      "text/plain": [
       "[<matplotlib.lines.Line2D at 0x8cd371eda0>]"
      ]
     },
     "execution_count": 23,
     "metadata": {},
     "output_type": "execute_result"
    },
    {
     "data": {
      "image/png": "[encoded data removed]",
      "text/plain": [
       "<Figure size 432x288 with 1 Axes>"
      ]
     },
     "metadata": {
      "needs_background": "light"
     },
     "output_type": "display_data"
    }
   ],
   "source": [
    "plt.plot(df['close'])"
   ]
  },
  {
   "cell_type": "code",
   "execution_count": 24,
   "metadata": {},
   "outputs": [
    {
     "data": {
      "text/plain": [
       "[<matplotlib.lines.Line2D at 0x8cd33e1128>]"
      ]
     },
     "execution_count": 24,
     "metadata": {},
     "output_type": "execute_result"
    },
    {
     "data": {
      "image/png": "[encoded data removed]",
      "text/plain": [
       "<Figure size 432x288 with 1 Axes>"
      ]
     },
     "metadata": {
      "needs_background": "light"
     },
     "output_type": "display_data"
    }
   ],
   "source": [
    "plt.plot(df['high'])"
   ]
  },
  {
   "cell_type": "code",
   "execution_count": 25,
   "metadata": {},
   "outputs": [
    {
     "data": {
      "text/plain": [
       "[<matplotlib.lines.Line2D at 0x8cd3432eb8>]"
      ]
     },
     "execution_count": 25,
     "metadata": {},
     "output_type": "execute_result"
    },
    {
     "data": {
      "image/png": "[encoded data removed]",
      "text/plain": [
       "<Figure size 432x288 with 1 Axes>"
      ]
     },
     "metadata": {
      "needs_background": "light"
     },
     "output_type": "display_data"
    }
   ],
   "source": [
    "plt.plot(df['low'])"
   ]
  },
  {
   "cell_type": "code",
   "execution_count": 26,
   "metadata": {},
   "outputs": [
    {
     "data": {
      "text/plain": [
       "[<matplotlib.lines.Line2D at 0x8cd349b1d0>]"
      ]
     },
     "execution_count": 26,
     "metadata": {},
     "output_type": "execute_result"
    },
    {
     "data": {
      "image/png": "[encoded data removed]",
      "text/plain": [
       "<Figure size 432x288 with 1 Axes>"
      ]
     },
     "metadata": {
      "needs_background": "light"
     },
     "output_type": "display_data"
    }
   ],
   "source": [
    "plt.plot(df['volume'])"
   ]
  },
  {
   "cell_type": "code",
   "execution_count": 27,
   "metadata": {},
   "outputs": [],
   "source": [
    "import seaborn as sns"
   ]
  },
  {
   "cell_type": "code",
   "execution_count": 28,
   "metadata": {},
   "outputs": [
    {
     "data": {
      "text/plain": [
       "<matplotlib.axes._subplots.AxesSubplot at 0x8cd5d7c358>"
      ]
     },
     "execution_count": 28,
     "metadata": {},
     "output_type": "execute_result"
    },
    {
     "data": {
      "image/png": "[encoded data removed]",
      "text/plain": [
       "<Figure size 432x288 with 2 Axes>"
      ]
     },
     "metadata": {
      "needs_background": "light"
     },
     "output_type": "display_data"
    }
   ],
   "source": [
    "sns.heatmap(df.corr(),annot=True)"
   ]
  },
  {
   "cell_type": "code",
   "execution_count": 29,
   "metadata": {},
   "outputs": [],
   "source": [
    "# So we will predict close range"
   ]
  },
  {
   "cell_type": "code",
   "execution_count": 30,
   "metadata": {},
   "outputs": [],
   "source": [
    "from sklearn.preprocessing import MinMaxScaler"
   ]
  },
  {
   "cell_type": "code",
   "execution_count": 34,
   "metadata": {},
   "outputs": [],
   "source": [
    "scaler=MinMaxScaler()"
   ]
  },
  {
   "cell_type": "code",
   "execution_count": 37,
   "metadata": {},
   "outputs": [],
   "source": [
    "X=df['close']"
   ]
  },
  {
   "cell_type": "code",
   "execution_count": 40,
   "metadata": {},
   "outputs": [],
   "source": [
    "import numpy as np\n",
    "X=np.array(X)\n",
    "X=X.reshape(-1,1)"
   ]
  },
  {
   "cell_type": "code",
   "execution_count": 41,
   "metadata": {},
   "outputs": [],
   "source": [
    "X=scaler.fit_transform(X)"
   ]
  },
  {
   "cell_type": "code",
   "execution_count": 42,
   "metadata": {},
   "outputs": [
    {
     "data": {
      "text/plain": [
       "array([[0.24808989],\n",
       "       [0.25123596],\n",
       "       [0.25573034],\n",
       "       ...,\n",
       "       [0.8094382 ],\n",
       "       [0.77662921],\n",
       "       [0.78606742]])"
      ]
     },
     "execution_count": 42,
     "metadata": {},
     "output_type": "execute_result"
    }
   ],
   "source": [
    "X"
   ]
  },
  {
   "cell_type": "code",
   "execution_count": 44,
   "metadata": {},
   "outputs": [
    {
     "data": {
      "text/plain": [
       "(1258, 1)"
      ]
     },
     "execution_count": 44,
     "metadata": {},
     "output_type": "execute_result"
    }
   ],
   "source": [
    "X.shape"
   ]
  },
  {
   "cell_type": "code",
   "execution_count": 45,
   "metadata": {},
   "outputs": [],
   "source": [
    "# train test split"
   ]
  },
  {
   "cell_type": "code",
   "execution_count": 51,
   "metadata": {},
   "outputs": [],
   "source": [
    "from math import floor\n",
    "train_length=floor(X.shape[0]*0.8)\n",
    "test_length=X.shape[0]-train_length"
   ]
  },
  {
   "cell_type": "code",
   "execution_count": 52,
   "metadata": {},
   "outputs": [
    {
     "data": {
      "text/plain": [
       "1006"
      ]
     },
     "execution_count": 52,
     "metadata": {},
     "output_type": "execute_result"
    }
   ],
   "source": [
    "train_length"
   ]
  },
  {
   "cell_type": "code",
   "execution_count": 53,
   "metadata": {},
   "outputs": [
    {
     "data": {
      "text/plain": [
       "252"
      ]
     },
     "execution_count": 53,
     "metadata": {},
     "output_type": "execute_result"
    }
   ],
   "source": [
    "test_length"
   ]
  },
  {
   "cell_type": "code",
   "execution_count": 58,
   "metadata": {},
   "outputs": [],
   "source": [
    "train=X[:train_length]"
   ]
  },
  {
   "cell_type": "code",
   "execution_count": 59,
   "metadata": {},
   "outputs": [
    {
     "data": {
      "text/plain": [
       "(1006, 1)"
      ]
     },
     "execution_count": 59,
     "metadata": {},
     "output_type": "execute_result"
    }
   ],
   "source": [
    "train.shape"
   ]
  },
  {
   "cell_type": "code",
   "execution_count": 60,
   "metadata": {},
   "outputs": [],
   "source": [
    "test=X[train_length:]"
   ]
  },
  {
   "cell_type": "code",
   "execution_count": 62,
   "metadata": {},
   "outputs": [
    {
     "data": {
      "text/plain": [
       "(252, 1)"
      ]
     },
     "execution_count": 62,
     "metadata": {},
     "output_type": "execute_result"
    }
   ],
   "source": [
    "test.shape"
   ]
  },
  {
   "cell_type": "code",
   "execution_count": 66,
   "metadata": {},
   "outputs": [],
   "source": [
    "X_train=[]\n",
    "y_train=[]\n",
    "sequence_length=60\n",
    "future_predict_period=1\n",
    "for i in range(sequence_length,len(train)):\n",
    "    X_train.append(train[i-sequence_length:i])\n",
    "    y_train.append(train[i][0])\n",
    "    \n",
    "    "
   ]
  },
  {
   "cell_type": "code",
   "execution_count": 89,
   "metadata": {},
   "outputs": [],
   "source": [
    "X_test=[]\n",
    "y_test=[]\n",
    "sequence_length=60\n",
    "future_predict_period=1\n",
    "for i in range(sequence_length,len(test)):\n",
    "    X_test.append(test[i-sequence_length:i])\n",
    "    y_test.append(test[i][0])\n",
    "    "
   ]
  },
  {
   "cell_type": "code",
   "execution_count": 67,
   "metadata": {},
   "outputs": [],
   "source": [
    "X_train=np.array(X_train)\n",
    "y_train=np.array(y_train)"
   ]
  },
  {
   "cell_type": "code",
   "execution_count": 90,
   "metadata": {},
   "outputs": [],
   "source": [
    "X_test=np.array(X_test)\n",
    "y_test=np.array(y_test)"
   ]
  },
  {
   "cell_type": "code",
   "execution_count": 68,
   "metadata": {},
   "outputs": [
    {
     "data": {
      "text/plain": [
       "(946, 60, 1)"
      ]
     },
     "execution_count": 68,
     "metadata": {},
     "output_type": "execute_result"
    }
   ],
   "source": [
    "X_train.shape"
   ]
  },
  {
   "cell_type": "code",
   "execution_count": 69,
   "metadata": {},
   "outputs": [
    {
     "data": {
      "text/plain": [
       "(946,)"
      ]
     },
     "execution_count": 69,
     "metadata": {},
     "output_type": "execute_result"
    }
   ],
   "source": [
    "y_train.shape"
   ]
  },
  {
   "cell_type": "code",
   "execution_count": 70,
   "metadata": {},
   "outputs": [
    {
     "data": {
      "text/plain": [
       "array([0.03640449, 0.03370787, 0.02426966, 0.0211236 , 0.02606742,\n",
       "       0.01483146, 0.01213483, 0.01842697, 0.01303371, 0.01393258,\n",
       "       0.0341573 , 0.04044944, 0.03640449, 0.02876404, 0.00764045,\n",
       "       0.        , 0.02786517, 0.02831461, 0.01438202, 0.01213483,\n",
       "       0.0188764 , 0.01123596, 0.02831461, 0.04089888, 0.0611236 ,\n",
       "       0.05842697, 0.05483146, 0.07505618, 0.06606742, 0.06831461,\n",
       "       0.10067416, 0.09977528, 0.0858427 , 0.07280899, 0.08764045,\n",
       "       0.0705618 , 0.0741573 , 0.08134831, 0.07011236, 0.07235955,\n",
       "       0.07865169, 0.08449438, 0.07865169, 0.08179775, 0.08539326,\n",
       "       0.07325843, 0.06382022, 0.04988764, 0.06382022, 0.05662921,\n",
       "       0.06022472, 0.07235955, 0.07191011, 0.07595506, 0.04719101,\n",
       "       0.05797753, 0.07191011, 0.05617978, 0.05303371, 0.0647191 ,\n",
       "       0.0647191 , 0.05258427, 0.06292135, 0.07460674, 0.06651685,\n",
       "       0.07325843, 0.09662921, 0.07865169, 0.07101124, 0.08044944,\n",
       "       0.07730337, 0.08134831, 0.04988764, 0.05213483, 0.07685393,\n",
       "       0.04494382, 0.05797753, 0.06876404, 0.06876404, 0.07730337,\n",
       "       0.08449438, 0.07146067, 0.0741573 , 0.06426966, 0.0647191 ,\n",
       "       0.08134831, 0.07685393, 0.08988764, 0.12629213, 0.11146067,\n",
       "       0.09932584, 0.08808989, 0.09438202, 0.07370787, 0.08808989,\n",
       "       0.0741573 , 0.09752809, 0.10741573, 0.11865169, 0.14966292,\n",
       "       0.16134831, 0.1752809 , 0.16719101, 0.17842697, 0.18561798,\n",
       "       0.17617978, 0.2152809 , 0.23550562, 0.25617978, 0.26831461,\n",
       "       0.23730337, 0.25348315, 0.27101124, 0.28359551, 0.25393258,\n",
       "       0.26741573, 0.30067416, 0.29752809, 0.30921348, 0.34157303,\n",
       "       0.3388764 , 0.34337079, 0.3411236 , 0.35730337, 0.3294382 ,\n",
       "       0.34337079, 0.35820225, 0.34966292, 0.35595506, 0.33213483,\n",
       "       0.34831461, 0.36988764, 0.36      , 0.34741573, 0.37078652,\n",
       "       0.4152809 , 0.39730337, 0.39550562, 0.39325843, 0.3847191 ,\n",
       "       0.3294382 , 0.34247191, 0.3447191 , 0.36449438, 0.3505618 ,\n",
       "       0.34337079, 0.34651685, 0.33977528, 0.36269663, 0.36089888,\n",
       "       0.38561798, 0.4152809 , 0.46606742, 0.46786517, 0.45438202,\n",
       "       0.42606742, 0.43595506, 0.44404494, 0.46651685, 0.44719101,\n",
       "       0.46741573, 0.45752809, 0.45707865, 0.47370787, 0.47955056,\n",
       "       0.52179775, 0.60359551, 0.59191011, 0.55910112, 0.51775281,\n",
       "       0.53617978, 0.56314607, 0.51460674, 0.5388764 , 0.56179775,\n",
       "       0.54741573, 0.56044944, 0.58292135, 0.60359551, 0.52494382,\n",
       "       0.54876404, 0.55101124, 0.53797753, 0.49303371, 0.51011236,\n",
       "       0.50292135, 0.48      , 0.48674157, 0.49258427, 0.4952809 ,\n",
       "       0.59505618, 0.58337079, 0.5788764 , 0.59685393, 0.61303371,\n",
       "       0.61438202, 0.64179775, 0.62247191, 0.65438202, 0.63460674,\n",
       "       0.63685393, 0.6211236 , 0.5941573 , 0.61617978, 0.60269663,\n",
       "       0.65303371, 0.68179775, 0.66022472, 0.66651685, 0.69258427,\n",
       "       0.73123596, 0.73977528, 0.77393258, 0.73752809, 0.73617978,\n",
       "       0.72359551, 0.65977528, 0.68044944, 0.69797753, 0.69483146,\n",
       "       0.70426966, 0.70247191, 0.62786517, 0.65033708, 0.65662921,\n",
       "       0.62426966, 0.65213483, 0.69258427, 0.68898876, 0.71550562,\n",
       "       0.73213483, 0.75280899, 0.74067416, 0.73842697, 0.68764045,\n",
       "       0.69573034, 0.6988764 , 0.71146067, 0.71011236, 0.7105618 ,\n",
       "       0.69977528, 0.69123596, 0.67101124, 0.67865169, 0.65932584,\n",
       "       0.6494382 , 0.63595506, 0.54966292, 0.55460674, 0.55235955,\n",
       "       0.55955056, 0.51595506, 0.49752809, 0.53303371, 0.54921348,\n",
       "       0.58876404, 0.58292135, 0.56134831, 0.52089888, 0.53168539,\n",
       "       0.51011236, 0.50561798, 0.52629213, 0.51235955, 0.50561798,\n",
       "       0.50606742, 0.57303371, 0.5658427 , 0.54696629, 0.53842697,\n",
       "       0.52404494, 0.54292135, 0.53932584, 0.5294382 , 0.51460674,\n",
       "       0.42741573, 0.45123596, 0.43595506, 0.44      , 0.43325843,\n",
       "       0.4305618 , 0.44449438, 0.45213483, 0.43820225, 0.44764045,\n",
       "       0.46876404, 0.51011236, 0.4988764 , 0.49348315, 0.47595506,\n",
       "       0.49213483, 0.48134831, 0.49033708, 0.50067416, 0.52359551,\n",
       "       0.56044944, 0.54831461, 0.55685393, 0.5541573 , 0.51280899,\n",
       "       0.50382022, 0.50831461, 0.44179775, 0.4       , 0.39101124,\n",
       "       0.43325843, 0.4341573 , 0.42337079, 0.42022472, 0.4247191 ,\n",
       "       0.42292135, 0.3905618 , 0.39640449, 0.42516854, 0.42696629,\n",
       "       0.40808989, 0.40808989, 0.43685393, 0.43910112, 0.42921348,\n",
       "       0.44269663, 0.44853933, 0.42741573, 0.4211236 , 0.44044944,\n",
       "       0.39505618, 0.36224719, 0.37483146, 0.37303371, 0.37752809,\n",
       "       0.3694382 , 0.36764045, 0.38696629, 0.40089888, 0.41977528,\n",
       "       0.46966292, 0.45123596, 0.46966292, 0.47011236, 0.51370787,\n",
       "       0.49393258, 0.49573034, 0.48808989, 0.48269663, 0.49213483,\n",
       "       0.49123596, 0.50786517, 0.48898876, 0.49348315, 0.50202247,\n",
       "       0.53393258, 0.54786517, 0.5447191 , 0.53617978, 0.53258427,\n",
       "       0.54247191, 0.56179775, 0.56359551, 0.58426966, 0.58382022,\n",
       "       0.6058427 , 0.60179775, 0.61348315, 0.59370787, 0.60898876,\n",
       "       0.6058427 , 0.59910112, 0.60134831, 0.65438202, 0.63955056,\n",
       "       0.63685393, 0.62606742, 0.61797753, 0.61123596, 0.58292135,\n",
       "       0.56808989, 0.58292135, 0.54382022, 0.55280899, 0.54292135,\n",
       "       0.53168539, 0.53393258, 0.5294382 , 0.55101124, 0.5541573 ,\n",
       "       0.53303371, 0.58786517, 0.58292135, 0.58022472, 0.58966292,\n",
       "       0.60719101, 0.60853933, 0.60359551, 0.59640449, 0.61393258,\n",
       "       0.5905618 , 0.59550562, 0.57977528, 0.58651685, 0.60089888,\n",
       "       0.60764045, 0.60314607, 0.59955056, 0.59325843, 0.60808989,\n",
       "       0.63595506, 0.64179775, 0.62426966, 0.6247191 , 0.6188764 ,\n",
       "       0.58292135, 0.59595506, 0.59730337, 0.58876404, 0.49213483,\n",
       "       0.4952809 , 0.48404494, 0.48449438, 0.46831461, 0.4705618 ,\n",
       "       0.46157303, 0.45213483, 0.4588764 , 0.46382022, 0.4647191 ,\n",
       "       0.46966292, 0.48359551, 0.49123596, 0.49258427, 0.4952809 ,\n",
       "       0.50202247, 0.47505618, 0.48134831, 0.49168539, 0.47101124,\n",
       "       0.48404494, 0.46516854, 0.46921348, 0.47101124, 0.47640449,\n",
       "       0.46292135, 0.4611236 , 0.46067416, 0.4988764 , 0.49213483,\n",
       "       0.48089888, 0.46651685, 0.47011236, 0.46696629, 0.44988764,\n",
       "       0.43595506, 0.43820225, 0.43865169, 0.43325843, 0.44044944,\n",
       "       0.45617978, 0.47370787, 0.46741573, 0.45573034, 0.45797753,\n",
       "       0.44764045, 0.44808989, 0.43460674, 0.4494382 , 0.43685393,\n",
       "       0.42292135, 0.44404494, 0.44764045, 0.4458427 , 0.43910112,\n",
       "       0.45168539, 0.45573034, 0.45707865, 0.45797753, 0.46651685,\n",
       "       0.46067416, 0.42651685, 0.45393258, 0.46292135, 0.47595506,\n",
       "       0.49123596, 0.49303371, 0.50786517, 0.50337079, 0.49977528,\n",
       "       0.47955056, 0.47775281, 0.47460674, 0.48494382, 0.50022472,\n",
       "       0.4988764 , 0.48449438, 0.47685393, 0.49303371, 0.49033708,\n",
       "       0.48089888, 0.49303371, 0.49078652, 0.49797753, 0.49932584,\n",
       "       0.50337079, 0.52719101, 0.53393258, 0.53078652, 0.54157303,\n",
       "       0.54696629, 0.55191011, 0.5352809 , 0.54202247, 0.53348315,\n",
       "       0.51550562, 0.51640449, 0.50157303, 0.50337079, 0.5105618 ,\n",
       "       0.49348315, 0.49258427, 0.47325843, 0.46696629, 0.46831461,\n",
       "       0.47865169, 0.47101124, 0.46292135, 0.4611236 , 0.45617978,\n",
       "       0.45707865, 0.46426966, 0.47101124, 0.47101124, 0.47865169,\n",
       "       0.48359551, 0.48134831, 0.48629213, 0.48269663, 0.48224719,\n",
       "       0.46292135, 0.46202247, 0.45977528, 0.45662921, 0.45348315,\n",
       "       0.4588764 , 0.44539326, 0.44157303, 0.38516854, 0.39280899,\n",
       "       0.39325843, 0.38247191, 0.37213483, 0.36674157, 0.36224719,\n",
       "       0.36269663, 0.36179775, 0.36179775, 0.36719101, 0.36134831,\n",
       "       0.36      , 0.36269663, 0.36      , 0.35865169, 0.36539326,\n",
       "       0.35775281, 0.35865169, 0.36853933, 0.36674157, 0.37348315,\n",
       "       0.36988764, 0.36359551, 0.35235955, 0.36539326, 0.35820225,\n",
       "       0.35191011, 0.34202247, 0.34696629, 0.34651685, 0.34651685,\n",
       "       0.34606742, 0.36719101, 0.36988764, 0.36494382, 0.37662921,\n",
       "       0.37348315, 0.3811236 , 0.38157303, 0.38337079, 0.38786517,\n",
       "       0.38426966, 0.38247191, 0.38337079, 0.41617978, 0.40719101,\n",
       "       0.40853933, 0.40494382, 0.39550562, 0.38741573, 0.38831461,\n",
       "       0.39146067, 0.41258427, 0.41617978, 0.39011236, 0.37483146,\n",
       "       0.3788764 , 0.38516854, 0.39955056, 0.4094382 , 0.39820225,\n",
       "       0.39595506, 0.37797753, 0.37617978, 0.37932584, 0.3811236 ,\n",
       "       0.3505618 , 0.34561798, 0.33932584, 0.33483146, 0.32764045,\n",
       "       0.32      , 0.32898876, 0.32719101, 0.34651685, 0.33258427,\n",
       "       0.32539326, 0.3105618 , 0.30202247, 0.29393258, 0.28044944,\n",
       "       0.28224719, 0.26157303, 0.25078652, 0.24629213, 0.25168539,\n",
       "       0.25573034, 0.26516854, 0.2588764 , 0.26202247, 0.26426966,\n",
       "       0.27820225, 0.28044944, 0.28674157, 0.28179775, 0.28674157,\n",
       "       0.28404494, 0.2741573 , 0.28808989, 0.28      , 0.29483146,\n",
       "       0.30651685, 0.29752809, 0.28988764, 0.29258427, 0.30022472,\n",
       "       0.29483146, 0.29573034, 0.29797753, 0.30337079, 0.30292135,\n",
       "       0.30696629, 0.32089888, 0.31191011, 0.32404494, 0.31865169,\n",
       "       0.32044944, 0.32898876, 0.33168539, 0.32494382, 0.31370787,\n",
       "       0.33438202, 0.33932584, 0.34516854, 0.35191011, 0.33842697,\n",
       "       0.33707865, 0.33393258, 0.3388764 , 0.33842697, 0.33348315,\n",
       "       0.32988764, 0.33168539, 0.3411236 , 0.33977528, 0.3388764 ,\n",
       "       0.32494382, 0.32629213, 0.3258427 , 0.32449438, 0.32629213,\n",
       "       0.32269663, 0.33213483, 0.3388764 , 0.33483146, 0.33213483,\n",
       "       0.33438202, 0.3258427 , 0.32089888, 0.31280899, 0.31550562,\n",
       "       0.31460674, 0.31505618, 0.31820225, 0.32629213, 0.32449438,\n",
       "       0.31955056, 0.32494382, 0.30876404, 0.31011236, 0.31101124,\n",
       "       0.30921348, 0.3105618 , 0.31910112, 0.31146067, 0.30606742,\n",
       "       0.30382022, 0.30382022, 0.32314607, 0.32269663, 0.33213483,\n",
       "       0.33842697, 0.33303371, 0.3294382 , 0.33573034, 0.31370787,\n",
       "       0.31460674, 0.31325843, 0.30921348, 0.30202247, 0.29573034,\n",
       "       0.28764045, 0.28898876, 0.26382022, 0.26606742, 0.26426966,\n",
       "       0.23191011, 0.23775281, 0.2341573 , 0.23595506, 0.22516854,\n",
       "       0.2247191 , 0.23191011, 0.22786517, 0.21797753, 0.22382022,\n",
       "       0.2211236 , 0.21977528, 0.20494382, 0.20089888, 0.18157303,\n",
       "       0.17617978, 0.18337079, 0.18876404, 0.1905618 , 0.19955056,\n",
       "       0.19280899, 0.20314607, 0.21033708, 0.21033708, 0.21033708,\n",
       "       0.20359551, 0.20134831, 0.1752809 , 0.17573034, 0.1788764 ,\n",
       "       0.1847191 , 0.17168539, 0.17213483, 0.18606742, 0.18741573,\n",
       "       0.18741573, 0.19820225, 0.20404494, 0.2094382 , 0.21033708,\n",
       "       0.20359551, 0.22921348, 0.23550562, 0.22067416, 0.23325843,\n",
       "       0.23101124, 0.23370787, 0.25842697, 0.2552809 , 0.25662921,\n",
       "       0.24853933, 0.2458427 , 0.24179775, 0.24988764, 0.29842697,\n",
       "       0.29348315, 0.30382022, 0.30606742, 0.3047191 , 0.32449438,\n",
       "       0.32539326, 0.32134831, 0.33258427, 0.32224719, 0.29797753,\n",
       "       0.3105618 , 0.30292135, 0.30426966, 0.29707865, 0.33258427,\n",
       "       0.32494382, 0.32674157, 0.32359551, 0.31640449, 0.32179775,\n",
       "       0.31325843, 0.29842697, 0.29168539, 0.30426966, 0.31685393,\n",
       "       0.31910112, 0.32134831, 0.31865169, 0.33797753, 0.32134831,\n",
       "       0.31865169, 0.30606742, 0.31955056, 0.31955056, 0.30606742,\n",
       "       0.31685393, 0.32314607, 0.33393258, 0.34786517, 0.35505618,\n",
       "       0.34426966, 0.36314607, 0.36719101, 0.34696629, 0.34651685,\n",
       "       0.35685393, 0.31191011, 0.33438202, 0.32269663, 0.34606742,\n",
       "       0.34651685, 0.34921348, 0.32269663, 0.34157303, 0.32179775,\n",
       "       0.31730337, 0.32134831, 0.31370787, 0.28764045, 0.29258427,\n",
       "       0.28853933, 0.29213483, 0.2858427 , 0.26606742, 0.26561798,\n",
       "       0.26786517, 0.26292135, 0.26247191, 0.26202247, 0.26561798,\n",
       "       0.28359551, 0.28764045, 0.3141573 , 0.31955056, 0.33483146,\n",
       "       0.32853933, 0.33303371, 0.33348315, 0.32808989, 0.33258427,\n",
       "       0.34516854, 0.33662921, 0.33393258, 0.30921348, 0.31325843,\n",
       "       0.31505618, 0.34202247, 0.35146067, 0.33168539, 0.31910112,\n",
       "       0.29977528, 0.2988764 , 0.29483146, 0.3011236 , 0.28629213,\n",
       "       0.2952809 , 0.30382022, 0.29033708, 0.30067416, 0.3141573 ,\n",
       "       0.32539326, 0.32764045, 0.33303371, 0.32224719, 0.31730337,\n",
       "       0.31505618, 0.31011236, 0.32224719, 0.32988764, 0.34741573,\n",
       "       0.37438202, 0.3847191 , 0.37348315, 0.35685393, 0.34921348,\n",
       "       0.33707865, 0.33797753, 0.33078652, 0.34247191, 0.33932584,\n",
       "       0.34067416, 0.34966292, 0.34382022, 0.33752809, 0.33617978,\n",
       "       0.34561798, 0.33033708, 0.32629213, 0.32719101, 0.31595506,\n",
       "       0.30876404, 0.30966292, 0.31011236, 0.31730337, 0.30202247,\n",
       "       0.3047191 , 0.2988764 , 0.2952809 , 0.2988764 , 0.29932584,\n",
       "       0.3047191 , 0.29797753, 0.28898876, 0.27235955, 0.28629213,\n",
       "       0.29303371, 0.29483146, 0.28044944, 0.28224719, 0.28134831,\n",
       "       0.27775281, 0.26966292, 0.2705618 , 0.27011236, 0.26067416,\n",
       "       0.2611236 , 0.26292135, 0.29123596, 0.32134831, 0.32674157,\n",
       "       0.32764045])"
      ]
     },
     "execution_count": 70,
     "metadata": {},
     "output_type": "execute_result"
    }
   ],
   "source": [
    "y_train"
   ]
  },
  {
   "cell_type": "code",
   "execution_count": 71,
   "metadata": {},
   "outputs": [
    {
     "name": "stderr",
     "output_type": "stream",
     "text": [
      "Using TensorFlow backend.\n"
     ]
    }
   ],
   "source": [
    "import keras"
   ]
  },
  {
   "cell_type": "code",
   "execution_count": 91,
   "metadata": {},
   "outputs": [],
   "source": [
    "from keras.models import Sequential\n",
    "from keras.layers import LSTM\n",
    "from keras.layers import Dense\n",
    "from keras.layers import Dropout"
   ]
  },
  {
   "cell_type": "code",
   "execution_count": 105,
   "metadata": {},
   "outputs": [],
   "source": [
    "model=Sequential()"
   ]
  },
  {
   "cell_type": "code",
   "execution_count": 106,
   "metadata": {},
   "outputs": [],
   "source": [
    "model.add(LSTM(50,activation='relu',input_shape=(X_train.shape[1],1),return_sequences=True))\n",
    "model.add(LSTM(50,activation='relu',return_sequences=True))\n",
    "model.add(LSTM(50,activation='relu',return_sequences=False))\n",
    "\n",
    "model.add(Dense(1))\n"
   ]
  },
  {
   "cell_type": "code",
   "execution_count": 107,
   "metadata": {},
   "outputs": [],
   "source": [
    "model.compile(loss='mean_squared_error',optimizer='adam')"
   ]
  },
  {
   "cell_type": "code",
   "execution_count": 108,
   "metadata": {},
   "outputs": [
    {
     "name": "stdout",
     "output_type": "stream",
     "text": [
      "Train on 946 samples, validate on 192 samples\n",
      "Epoch 1/100\n",
      "946/946 [==============================] - 6s 6ms/step - loss: 0.0458 - val_loss: 0.0364\n",
      "Epoch 2/100\n",
      "946/946 [==============================] - 4s 4ms/step - loss: 0.0050 - val_loss: 0.0094\n",
      "Epoch 3/100\n",
      "946/946 [==============================] - 4s 4ms/step - loss: 0.0028 - val_loss: 0.0087\n",
      "Epoch 4/100\n",
      "946/946 [==============================] - 4s 5ms/step - loss: 0.0025 - val_loss: 0.0081\n",
      "Epoch 5/100\n",
      "946/946 [==============================] - 5s 5ms/step - loss: 0.0023 - val_loss: 0.0076\n",
      "Epoch 6/100\n",
      "946/946 [==============================] - 5s 6ms/step - loss: 0.0021 - val_loss: 0.0074\n",
      "Epoch 7/100\n",
      "946/946 [==============================] - 5s 5ms/step - loss: 0.0021 - val_loss: 0.0072\n",
      "Epoch 8/100\n",
      "946/946 [==============================] - 5s 5ms/step - loss: 0.0021 - val_loss: 0.0070\n",
      "Epoch 9/100\n",
      "946/946 [==============================] - 5s 5ms/step - loss: 0.0020 - val_loss: 0.0058\n",
      "Epoch 10/100\n",
      "946/946 [==============================] - 5s 5ms/step - loss: 0.0018 - val_loss: 0.0080\n",
      "Epoch 11/100\n",
      "946/946 [==============================] - 5s 6ms/step - loss: 0.0019 - val_loss: 0.0085\n",
      "Epoch 12/100\n",
      "946/946 [==============================] - 5s 6ms/step - loss: 0.0018 - val_loss: 0.0048\n",
      "Epoch 13/100\n",
      "946/946 [==============================] - 5s 5ms/step - loss: 0.0017 - val_loss: 0.0051\n",
      "Epoch 14/100\n",
      "946/946 [==============================] - 5s 5ms/step - loss: 0.0018 - val_loss: 0.0045\n",
      "Epoch 15/100\n",
      "946/946 [==============================] - 5s 5ms/step - loss: 0.0015 - val_loss: 0.0049\n",
      "Epoch 16/100\n",
      "946/946 [==============================] - 5s 5ms/step - loss: 0.0015 - val_loss: 0.0043\n",
      "Epoch 17/100\n",
      "946/946 [==============================] - 5s 5ms/step - loss: 0.0014 - val_loss: 0.0041\n",
      "Epoch 18/100\n",
      "946/946 [==============================] - 5s 5ms/step - loss: 0.0014 - val_loss: 0.0040\n",
      "Epoch 19/100\n",
      "946/946 [==============================] - 5s 5ms/step - loss: 0.0015 - val_loss: 0.0040\n",
      "Epoch 20/100\n",
      "946/946 [==============================] - 5s 5ms/step - loss: 0.0016 - val_loss: 0.0041\n",
      "Epoch 21/100\n",
      "946/946 [==============================] - 5s 5ms/step - loss: 0.0016 - val_loss: 0.0042\n",
      "Epoch 22/100\n",
      "946/946 [==============================] - 5s 5ms/step - loss: 0.0013 - val_loss: 0.0037\n",
      "Epoch 23/100\n",
      "946/946 [==============================] - 5s 5ms/step - loss: 0.0013 - val_loss: 0.0041\n",
      "Epoch 24/100\n",
      "946/946 [==============================] - 5s 5ms/step - loss: 0.0012 - val_loss: 0.0036\n",
      "Epoch 25/100\n",
      "946/946 [==============================] - 5s 5ms/step - loss: 0.0012 - val_loss: 0.0034\n",
      "Epoch 26/100\n",
      "946/946 [==============================] - 5s 5ms/step - loss: 0.0011 - val_loss: 0.0034\n",
      "Epoch 27/100\n",
      "946/946 [==============================] - 6s 6ms/step - loss: 0.0011 - val_loss: 0.0033\n",
      "Epoch 28/100\n",
      "946/946 [==============================] - 7s 7ms/step - loss: 0.0011 - val_loss: 0.0030\n",
      "Epoch 29/100\n",
      "946/946 [==============================] - 6s 7ms/step - loss: 0.0011 - val_loss: 0.0029\n",
      "Epoch 30/100\n",
      "946/946 [==============================] - 5s 6ms/step - loss: 0.0010 - val_loss: 0.0030\n",
      "Epoch 31/100\n",
      "946/946 [==============================] - 5s 6ms/step - loss: 9.3699e-04 - val_loss: 0.0030\n",
      "Epoch 32/100\n",
      "946/946 [==============================] - 5s 6ms/step - loss: 9.6813e-04 - val_loss: 0.0024\n",
      "Epoch 33/100\n",
      "946/946 [==============================] - 5s 5ms/step - loss: 0.0010 - val_loss: 0.0029\n",
      "Epoch 34/100\n",
      "946/946 [==============================] - 5s 6ms/step - loss: 9.4963e-04 - val_loss: 0.0024\n",
      "Epoch 35/100\n",
      "946/946 [==============================] - 5s 5ms/step - loss: 8.7818e-04 - val_loss: 0.0029\n",
      "Epoch 36/100\n",
      "946/946 [==============================] - 5s 6ms/step - loss: 7.6628e-04 - val_loss: 0.0033\n",
      "Epoch 37/100\n",
      "946/946 [==============================] - 5s 6ms/step - loss: 7.3826e-04 - val_loss: 0.0031\n",
      "Epoch 38/100\n",
      "946/946 [==============================] - 5s 5ms/step - loss: 8.2470e-04 - val_loss: 0.0021\n",
      "Epoch 39/100\n",
      "946/946 [==============================] - 5s 5ms/step - loss: 8.7295e-04 - val_loss: 0.0024\n",
      "Epoch 40/100\n",
      "946/946 [==============================] - 5s 5ms/step - loss: 8.6422e-04 - val_loss: 0.0022\n",
      "Epoch 41/100\n",
      "946/946 [==============================] - 5s 5ms/step - loss: 8.0284e-04 - val_loss: 0.0027\n",
      "Epoch 42/100\n",
      "946/946 [==============================] - 5s 5ms/step - loss: 9.1324e-04 - val_loss: 0.0024\n",
      "Epoch 43/100\n",
      "946/946 [==============================] - 5s 5ms/step - loss: 6.1619e-04 - val_loss: 0.0020\n",
      "Epoch 44/100\n",
      "946/946 [==============================] - 5s 5ms/step - loss: 6.3685e-04 - val_loss: 0.0032\n",
      "Epoch 45/100\n",
      "946/946 [==============================] - 5s 6ms/step - loss: 6.0588e-04 - val_loss: 0.0026\n",
      "Epoch 46/100\n",
      "946/946 [==============================] - 5s 5ms/step - loss: 5.7281e-04 - val_loss: 0.0026\n",
      "Epoch 47/100\n",
      "946/946 [==============================] - 5s 5ms/step - loss: 5.6267e-04 - val_loss: 0.0017\n",
      "Epoch 48/100\n",
      "946/946 [==============================] - 5s 6ms/step - loss: 5.2963e-04 - val_loss: 0.0016\n",
      "Epoch 49/100\n",
      "946/946 [==============================] - 5s 5ms/step - loss: 5.1797e-04 - val_loss: 0.0015\n",
      "Epoch 50/100\n",
      "946/946 [==============================] - 5s 5ms/step - loss: 4.9045e-04 - val_loss: 0.0016\n",
      "Epoch 51/100\n",
      "946/946 [==============================] - 5s 5ms/step - loss: 5.2673e-04 - val_loss: 0.0015\n",
      "Epoch 52/100\n",
      "946/946 [==============================] - 5s 5ms/step - loss: 5.3712e-04 - val_loss: 0.0013\n",
      "Epoch 53/100\n",
      "946/946 [==============================] - 5s 5ms/step - loss: 4.8752e-04 - val_loss: 0.0015\n",
      "Epoch 54/100\n",
      "946/946 [==============================] - 5s 6ms/step - loss: 4.9881e-04 - val_loss: 0.0012\n",
      "Epoch 55/100\n",
      "946/946 [==============================] - 5s 6ms/step - loss: 4.9994e-04 - val_loss: 0.0019\n",
      "Epoch 56/100\n",
      "946/946 [==============================] - 5s 5ms/step - loss: 4.9010e-04 - val_loss: 0.0024\n",
      "Epoch 57/100\n",
      "946/946 [==============================] - 5s 5ms/step - loss: 5.2917e-04 - val_loss: 0.0015\n",
      "Epoch 58/100\n",
      "946/946 [==============================] - 5s 5ms/step - loss: 5.3332e-04 - val_loss: 0.0012\n",
      "Epoch 59/100\n",
      "946/946 [==============================] - 5s 5ms/step - loss: 4.1471e-04 - val_loss: 0.0014\n",
      "Epoch 60/100\n",
      "946/946 [==============================] - 5s 6ms/step - loss: 4.8010e-04 - val_loss: 0.0011\n",
      "Epoch 61/100\n",
      "946/946 [==============================] - 5s 5ms/step - loss: 4.3772e-04 - val_loss: 0.0012\n",
      "Epoch 62/100\n",
      "946/946 [==============================] - 5s 5ms/step - loss: 4.2037e-04 - val_loss: 0.0015\n",
      "Epoch 63/100\n",
      "946/946 [==============================] - 5s 5ms/step - loss: 4.2337e-04 - val_loss: 0.0012\n",
      "Epoch 64/100\n",
      "946/946 [==============================] - 5s 6ms/step - loss: 4.1778e-04 - val_loss: 0.0012\n",
      "Epoch 65/100\n",
      "946/946 [==============================] - 5s 6ms/step - loss: 4.2609e-04 - val_loss: 0.0012\n",
      "Epoch 66/100\n",
      "946/946 [==============================] - 5s 5ms/step - loss: 4.1062e-04 - val_loss: 0.0019\n",
      "Epoch 67/100\n",
      "946/946 [==============================] - 5s 6ms/step - loss: 5.0078e-04 - val_loss: 0.0012\n",
      "Epoch 68/100\n",
      "946/946 [==============================] - 5s 5ms/step - loss: 5.7784e-04 - val_loss: 0.0011\n",
      "Epoch 69/100\n",
      "946/946 [==============================] - 5s 6ms/step - loss: 3.9798e-04 - val_loss: 0.0014\n",
      "Epoch 70/100\n",
      "946/946 [==============================] - 5s 5ms/step - loss: 3.8129e-04 - val_loss: 0.0012\n",
      "Epoch 71/100\n",
      "946/946 [==============================] - 5s 6ms/step - loss: 4.5616e-04 - val_loss: 0.0015\n",
      "Epoch 72/100\n",
      "946/946 [==============================] - 5s 6ms/step - loss: 4.5260e-04 - val_loss: 0.0013\n",
      "Epoch 73/100\n",
      "946/946 [==============================] - 5s 6ms/step - loss: 4.3611e-04 - val_loss: 0.0012\n",
      "Epoch 74/100\n",
      "946/946 [==============================] - 5s 6ms/step - loss: 4.2547e-04 - val_loss: 0.0013\n",
      "Epoch 75/100\n",
      "946/946 [==============================] - 5s 6ms/step - loss: 4.0418e-04 - val_loss: 0.0022\n",
      "Epoch 76/100\n",
      "946/946 [==============================] - 5s 5ms/step - loss: 4.6260e-04 - val_loss: 0.0014\n",
      "Epoch 77/100\n",
      "946/946 [==============================] - 5s 6ms/step - loss: 4.6407e-04 - val_loss: 0.0016\n",
      "Epoch 78/100\n",
      "946/946 [==============================] - 5s 6ms/step - loss: 3.8407e-04 - val_loss: 0.0017\n",
      "Epoch 79/100\n"
     ]
    },
    {
     "name": "stdout",
     "output_type": "stream",
     "text": [
      "946/946 [==============================] - 5s 5ms/step - loss: 4.8561e-04 - val_loss: 0.0016\n",
      "Epoch 80/100\n",
      "946/946 [==============================] - 5s 6ms/step - loss: 4.5580e-04 - val_loss: 0.0015\n",
      "Epoch 81/100\n",
      "946/946 [==============================] - 5s 5ms/step - loss: 3.8038e-04 - val_loss: 0.0020\n",
      "Epoch 82/100\n",
      "946/946 [==============================] - 5s 5ms/step - loss: 3.9233e-04 - val_loss: 0.0013\n",
      "Epoch 83/100\n",
      "946/946 [==============================] - 5s 5ms/step - loss: 3.8229e-04 - val_loss: 0.0018\n",
      "Epoch 84/100\n",
      "946/946 [==============================] - 5s 5ms/step - loss: 4.0490e-04 - val_loss: 0.0011\n",
      "Epoch 85/100\n",
      "946/946 [==============================] - 5s 5ms/step - loss: 3.5014e-04 - val_loss: 0.0014\n",
      "Epoch 86/100\n",
      "946/946 [==============================] - 5s 5ms/step - loss: 3.5992e-04 - val_loss: 9.5511e-04\n",
      "Epoch 87/100\n",
      "946/946 [==============================] - 5s 5ms/step - loss: 3.6794e-04 - val_loss: 0.0025\n",
      "Epoch 88/100\n",
      "946/946 [==============================] - 5s 5ms/step - loss: 3.8838e-04 - val_loss: 0.0011\n",
      "Epoch 89/100\n",
      "946/946 [==============================] - 5s 6ms/step - loss: 3.4691e-04 - val_loss: 0.0011\n",
      "Epoch 90/100\n",
      "946/946 [==============================] - 5s 6ms/step - loss: 3.7039e-04 - val_loss: 0.0013\n",
      "Epoch 91/100\n",
      "946/946 [==============================] - 5s 6ms/step - loss: 3.4081e-04 - val_loss: 9.9949e-04\n",
      "Epoch 92/100\n",
      "946/946 [==============================] - 5s 5ms/step - loss: 3.2833e-04 - val_loss: 9.2386e-04\n",
      "Epoch 93/100\n",
      "946/946 [==============================] - 5s 6ms/step - loss: 3.5771e-04 - val_loss: 0.0018\n",
      "Epoch 94/100\n",
      "946/946 [==============================] - 5s 5ms/step - loss: 3.6745e-04 - val_loss: 0.0011\n",
      "Epoch 95/100\n",
      "946/946 [==============================] - 5s 6ms/step - loss: 3.4115e-04 - val_loss: 0.0015\n",
      "Epoch 96/100\n",
      "946/946 [==============================] - 5s 5ms/step - loss: 3.4504e-04 - val_loss: 0.0010\n",
      "Epoch 97/100\n",
      "946/946 [==============================] - 5s 5ms/step - loss: 3.5824e-04 - val_loss: 0.0020\n",
      "Epoch 98/100\n",
      "946/946 [==============================] - 5s 6ms/step - loss: 3.2818e-04 - val_loss: 9.1890e-04\n",
      "Epoch 99/100\n",
      "946/946 [==============================] - 5s 5ms/step - loss: 3.2466e-04 - val_loss: 0.0011\n",
      "Epoch 100/100\n",
      "946/946 [==============================] - 5s 6ms/step - loss: 3.4720e-04 - val_loss: 9.0329e-04\n"
     ]
    },
    {
     "data": {
      "text/plain": [
       "<keras.callbacks.callbacks.History at 0x8de2770cf8>"
      ]
     },
     "execution_count": 108,
     "metadata": {},
     "output_type": "execute_result"
    }
   ],
   "source": [
    "model.fit(X_train,y_train,epochs=100,validation_data=(X_test,y_test),batch_size=32)"
   ]
  },
  {
   "cell_type": "code",
   "execution_count": 109,
   "metadata": {},
   "outputs": [
    {
     "name": "stdout",
     "output_type": "stream",
     "text": [
      "192/192 [==============================] - ETA:  - 0s 1ms/step\n"
     ]
    },
    {
     "data": {
      "text/plain": [
       "0.0009032940603598641"
      ]
     },
     "execution_count": 109,
     "metadata": {},
     "output_type": "execute_result"
    }
   ],
   "source": [
    "model.evaluate(X_test,y_test)"
   ]
  },
  {
   "cell_type": "code",
   "execution_count": 110,
   "metadata": {},
   "outputs": [],
   "source": [
    "test_predict=model.predict(X_test)"
   ]
  },
  {
   "cell_type": "code",
   "execution_count": 111,
   "metadata": {},
   "outputs": [
    {
     "data": {
      "text/plain": [
       "array([[0.6051214 ],\n",
       "       [0.6058255 ],\n",
       "       [0.61007   ],\n",
       "       [0.6317078 ],\n",
       "       [0.5672565 ],\n",
       "       [0.53713447],\n",
       "       [0.5188643 ],\n",
       "       [0.51333696],\n",
       "       [0.51782703],\n",
       "       [0.51077706],\n",
       "       [0.5140849 ],\n",
       "       [0.510188  ],\n",
       "       [0.54631454],\n",
       "       [0.5381555 ],\n",
       "       [0.5607133 ],\n",
       "       [0.56939983],\n",
       "       [0.5756949 ],\n",
       "       [0.58365864],\n",
       "       [0.5571227 ],\n",
       "       [0.54833543],\n",
       "       [0.53264403],\n",
       "       [0.51446116],\n",
       "       [0.5080146 ],\n",
       "       [0.51411396],\n",
       "       [0.5116283 ],\n",
       "       [0.5308144 ],\n",
       "       [0.52962136],\n",
       "       [0.5462824 ],\n",
       "       [0.54172695],\n",
       "       [0.5414249 ],\n",
       "       [0.5051833 ],\n",
       "       [0.5026693 ],\n",
       "       [0.4868767 ],\n",
       "       [0.4954326 ],\n",
       "       [0.50391424],\n",
       "       [0.5094777 ],\n",
       "       [0.4964821 ],\n",
       "       [0.48446983],\n",
       "       [0.4811845 ],\n",
       "       [0.5037777 ],\n",
       "       [0.51054287],\n",
       "       [0.49284786],\n",
       "       [0.48957118],\n",
       "       [0.50002986],\n",
       "       [0.5144644 ],\n",
       "       [0.5040483 ],\n",
       "       [0.48642048],\n",
       "       [0.47902885],\n",
       "       [0.49176732],\n",
       "       [0.47551274],\n",
       "       [0.47154996],\n",
       "       [0.47171566],\n",
       "       [0.47444823],\n",
       "       [0.4833532 ],\n",
       "       [0.4855931 ],\n",
       "       [0.48237228],\n",
       "       [0.49288312],\n",
       "       [0.5015107 ],\n",
       "       [0.50070244],\n",
       "       [0.48671395],\n",
       "       [0.47764432],\n",
       "       [0.4741132 ],\n",
       "       [0.48978612],\n",
       "       [0.48829713],\n",
       "       [0.49084973],\n",
       "       [0.49468237],\n",
       "       [0.50990474],\n",
       "       [0.5040179 ],\n",
       "       [0.50630397],\n",
       "       [0.497035  ],\n",
       "       [0.49337476],\n",
       "       [0.5041022 ],\n",
       "       [0.5251857 ],\n",
       "       [0.5272116 ],\n",
       "       [0.52674776],\n",
       "       [0.52004766],\n",
       "       [0.51760185],\n",
       "       [0.5388607 ],\n",
       "       [0.53493154],\n",
       "       [0.5226659 ],\n",
       "       [0.5325633 ],\n",
       "       [0.55724686],\n",
       "       [0.56362206],\n",
       "       [0.5634158 ],\n",
       "       [0.57241726],\n",
       "       [0.57306325],\n",
       "       [0.5685943 ],\n",
       "       [0.57132727],\n",
       "       [0.56464905],\n",
       "       [0.56716734],\n",
       "       [0.5408704 ],\n",
       "       [0.5281782 ],\n",
       "       [0.53808826],\n",
       "       [0.5245439 ],\n",
       "       [0.52696514],\n",
       "       [0.5418205 ],\n",
       "       [0.55238485],\n",
       "       [0.54789037],\n",
       "       [0.56242615],\n",
       "       [0.56234133],\n",
       "       [0.56696534],\n",
       "       [0.57882905],\n",
       "       [0.57617706],\n",
       "       [0.5486271 ],\n",
       "       [0.55986714],\n",
       "       [0.5657628 ],\n",
       "       [0.56988764],\n",
       "       [0.55978245],\n",
       "       [0.5469976 ],\n",
       "       [0.54574686],\n",
       "       [0.56025016],\n",
       "       [0.55621946],\n",
       "       [0.5651012 ],\n",
       "       [0.56690395],\n",
       "       [0.5654207 ],\n",
       "       [0.5869488 ],\n",
       "       [0.62357706],\n",
       "       [0.6637461 ],\n",
       "       [0.6832143 ],\n",
       "       [0.66985273],\n",
       "       [0.69700754],\n",
       "       [0.72649485],\n",
       "       [0.6870171 ],\n",
       "       [0.67541456],\n",
       "       [0.6139371 ],\n",
       "       [0.5822802 ],\n",
       "       [0.6268008 ],\n",
       "       [0.6684177 ],\n",
       "       [0.665475  ],\n",
       "       [0.691671  ],\n",
       "       [0.6955919 ],\n",
       "       [0.63145965],\n",
       "       [0.62753415],\n",
       "       [0.58100027],\n",
       "       [0.4986789 ],\n",
       "       [0.44986668],\n",
       "       [0.47179446],\n",
       "       [0.5289912 ],\n",
       "       [0.47052145],\n",
       "       [0.4665865 ],\n",
       "       [0.45748177],\n",
       "       [0.4938031 ],\n",
       "       [0.59429896],\n",
       "       [0.60719323],\n",
       "       [0.6214719 ],\n",
       "       [0.60496616],\n",
       "       [0.6007366 ],\n",
       "       [0.5577716 ],\n",
       "       [0.5756235 ],\n",
       "       [0.6220674 ],\n",
       "       [0.6308947 ],\n",
       "       [0.65417004],\n",
       "       [0.6430471 ],\n",
       "       [0.644804  ],\n",
       "       [0.74167967],\n",
       "       [0.8019015 ],\n",
       "       [0.813247  ],\n",
       "       [0.82594305],\n",
       "       [0.8603348 ],\n",
       "       [0.8330997 ],\n",
       "       [0.8551327 ],\n",
       "       [0.850684  ],\n",
       "       [0.9513452 ],\n",
       "       [0.9500824 ],\n",
       "       [0.95822906],\n",
       "       [0.9427271 ],\n",
       "       [0.9472041 ],\n",
       "       [0.92024326],\n",
       "       [0.8712226 ],\n",
       "       [0.9606529 ],\n",
       "       [0.97329056],\n",
       "       [1.0087938 ],\n",
       "       [0.88577205],\n",
       "       [0.9576517 ],\n",
       "       [0.96232486],\n",
       "       [0.8636431 ],\n",
       "       [0.8851913 ],\n",
       "       [0.8943838 ],\n",
       "       [0.9500029 ],\n",
       "       [0.9861382 ],\n",
       "       [0.910891  ],\n",
       "       [0.98129827],\n",
       "       [0.918432  ],\n",
       "       [0.86363846],\n",
       "       [0.88858056],\n",
       "       [0.7912452 ],\n",
       "       [0.7628669 ],\n",
       "       [0.7751478 ],\n",
       "       [0.7760978 ],\n",
       "       [0.81871766],\n",
       "       [0.76190734],\n",
       "       [0.7300997 ]], dtype=float32)"
      ]
     },
     "execution_count": 111,
     "metadata": {},
     "output_type": "execute_result"
    }
   ],
   "source": [
    "test_predict"
   ]
  },
  {
   "cell_type": "code",
   "execution_count": 113,
   "metadata": {},
   "outputs": [],
   "source": [
    "test_predict=scaler.inverse_transform(test_predict)"
   ]
  },
  {
   "cell_type": "code",
   "execution_count": 114,
   "metadata": {},
   "outputs": [
    {
     "data": {
      "text/plain": [
       "array([[19.40395 ],\n",
       "       [19.419617],\n",
       "       [19.514057],\n",
       "       [19.995499],\n",
       "       [18.561457],\n",
       "       [17.891241],\n",
       "       [17.48473 ],\n",
       "       [17.361748],\n",
       "       [17.46165 ],\n",
       "       [17.304789],\n",
       "       [17.378387],\n",
       "       [17.291683],\n",
       "       [18.095499],\n",
       "       [17.91396 ],\n",
       "       [18.41587 ],\n",
       "       [18.609146],\n",
       "       [18.749212],\n",
       "       [18.926405],\n",
       "       [18.33598 ],\n",
       "       [18.140463],\n",
       "       [17.79133 ],\n",
       "       [17.38676 ],\n",
       "       [17.243324],\n",
       "       [17.379036],\n",
       "       [17.32373 ],\n",
       "       [17.75062 ],\n",
       "       [17.724075],\n",
       "       [18.094784],\n",
       "       [17.993423],\n",
       "       [17.986704],\n",
       "       [17.180328],\n",
       "       [17.124392],\n",
       "       [16.773006],\n",
       "       [16.963375],\n",
       "       [17.152092],\n",
       "       [17.275879],\n",
       "       [16.986727],\n",
       "       [16.719454],\n",
       "       [16.646357],\n",
       "       [17.149054],\n",
       "       [17.299578],\n",
       "       [16.905865],\n",
       "       [16.83296 ],\n",
       "       [17.065664],\n",
       "       [17.386831],\n",
       "       [17.155075],\n",
       "       [16.762856],\n",
       "       [16.598392],\n",
       "       [16.881823],\n",
       "       [16.520159],\n",
       "       [16.431988],\n",
       "       [16.435675],\n",
       "       [16.496473],\n",
       "       [16.694609],\n",
       "       [16.744448],\n",
       "       [16.672783],\n",
       "       [16.90665 ],\n",
       "       [17.098612],\n",
       "       [17.08063 ],\n",
       "       [16.769384],\n",
       "       [16.567587],\n",
       "       [16.48902 ],\n",
       "       [16.837742],\n",
       "       [16.804611],\n",
       "       [16.861406],\n",
       "       [16.946682],\n",
       "       [17.28538 ],\n",
       "       [17.154398],\n",
       "       [17.205263],\n",
       "       [16.99903 ],\n",
       "       [16.91759 ],\n",
       "       [17.156273],\n",
       "       [17.625381],\n",
       "       [17.670458],\n",
       "       [17.660137],\n",
       "       [17.51106 ],\n",
       "       [17.45664 ],\n",
       "       [17.92965 ],\n",
       "       [17.842226],\n",
       "       [17.569317],\n",
       "       [17.789534],\n",
       "       [18.338743],\n",
       "       [18.48059 ],\n",
       "       [18.476002],\n",
       "       [18.676283],\n",
       "       [18.690657],\n",
       "       [18.591223],\n",
       "       [18.65203 ],\n",
       "       [18.50344 ],\n",
       "       [18.559473],\n",
       "       [17.974367],\n",
       "       [17.691965],\n",
       "       [17.912464],\n",
       "       [17.611101],\n",
       "       [17.664974],\n",
       "       [17.995506],\n",
       "       [18.230562],\n",
       "       [18.13056 ],\n",
       "       [18.453981],\n",
       "       [18.452095],\n",
       "       [18.55498 ],\n",
       "       [18.818947],\n",
       "       [18.75994 ],\n",
       "       [18.146952],\n",
       "       [18.397043],\n",
       "       [18.528223],\n",
       "       [18.619999],\n",
       "       [18.395159],\n",
       "       [18.110697],\n",
       "       [18.082867],\n",
       "       [18.405565],\n",
       "       [18.315884],\n",
       "       [18.513502],\n",
       "       [18.553612],\n",
       "       [18.52061 ],\n",
       "       [18.99961 ],\n",
       "       [19.814589],\n",
       "       [20.708351],\n",
       "       [21.141518],\n",
       "       [20.844223],\n",
       "       [21.448418],\n",
       "       [22.10451 ],\n",
       "       [21.22613 ],\n",
       "       [20.967974],\n",
       "       [19.6001  ],\n",
       "       [18.895735],\n",
       "       [19.886316],\n",
       "       [20.812294],\n",
       "       [20.746819],\n",
       "       [21.32968 ],\n",
       "       [21.41692 ],\n",
       "       [19.989977],\n",
       "       [19.902636],\n",
       "       [18.867256],\n",
       "       [17.035606],\n",
       "       [15.949534],\n",
       "       [16.437428],\n",
       "       [17.710054],\n",
       "       [16.409101],\n",
       "       [16.32155 ],\n",
       "       [16.118969],\n",
       "       [16.92712 ],\n",
       "       [19.16315 ],\n",
       "       [19.450048],\n",
       "       [19.76775 ],\n",
       "       [19.400497],\n",
       "       [19.306389],\n",
       "       [18.350418],\n",
       "       [18.747623],\n",
       "       [19.781   ],\n",
       "       [19.977407],\n",
       "       [20.495283],\n",
       "       [20.247797],\n",
       "       [20.286888],\n",
       "       [22.442373],\n",
       "       [23.782309],\n",
       "       [24.034746],\n",
       "       [24.317232],\n",
       "       [25.082449],\n",
       "       [24.476469],\n",
       "       [24.966703],\n",
       "       [24.867718],\n",
       "       [27.107431],\n",
       "       [27.079334],\n",
       "       [27.260597],\n",
       "       [26.915678],\n",
       "       [27.015293],\n",
       "       [26.415413],\n",
       "       [25.324705],\n",
       "       [27.314526],\n",
       "       [27.595716],\n",
       "       [28.385664],\n",
       "       [25.648428],\n",
       "       [27.24775 ],\n",
       "       [27.351728],\n",
       "       [25.15606 ],\n",
       "       [25.635508],\n",
       "       [25.84004 ],\n",
       "       [27.077566],\n",
       "       [27.881577],\n",
       "       [26.207325],\n",
       "       [27.773886],\n",
       "       [26.375113],\n",
       "       [25.155956],\n",
       "       [25.710918],\n",
       "       [23.545208],\n",
       "       [22.913788],\n",
       "       [23.18704 ],\n",
       "       [23.208176],\n",
       "       [24.156467],\n",
       "       [22.892439],\n",
       "       [22.184717]], dtype=float32)"
      ]
     },
     "execution_count": 114,
     "metadata": {},
     "output_type": "execute_result"
    }
   ],
   "source": [
    "test_predict"
   ]
  },
  {
   "cell_type": "code",
   "execution_count": 120,
   "metadata": {},
   "outputs": [],
   "source": [
    "y_test_original=scaler.inverse_transform(y_test.reshape(-1,1))"
   ]
  },
  {
   "cell_type": "code",
   "execution_count": 121,
   "metadata": {},
   "outputs": [
    {
     "data": {
      "text/plain": [
       "array([[19.38],\n",
       "       [19.42],\n",
       "       [19.87],\n",
       "       [18.4 ],\n",
       "       [17.87],\n",
       "       [17.41],\n",
       "       [17.25],\n",
       "       [17.34],\n",
       "       [17.13],\n",
       "       [17.23],\n",
       "       [17.1 ],\n",
       "       [18.02],\n",
       "       [17.64],\n",
       "       [18.3 ],\n",
       "       [18.43],\n",
       "       [18.6 ],\n",
       "       [18.81],\n",
       "       [18.18],\n",
       "       [18.1 ],\n",
       "       [17.73],\n",
       "       [17.33],\n",
       "       [17.22],\n",
       "       [17.37],\n",
       "       [17.26],\n",
       "       [17.75],\n",
       "       [17.62],\n",
       "       [18.06],\n",
       "       [17.87],\n",
       "       [17.91],\n",
       "       [17.  ],\n",
       "       [17.1 ],\n",
       "       [16.66],\n",
       "       [16.94],\n",
       "       [17.09],\n",
       "       [17.19],\n",
       "       [16.83],\n",
       "       [16.6 ],\n",
       "       [16.57],\n",
       "       [17.17],\n",
       "       [17.2 ],\n",
       "       [16.72],\n",
       "       [16.77],\n",
       "       [17.05],\n",
       "       [17.36],\n",
       "       [17.01],\n",
       "       [16.64],\n",
       "       [16.54],\n",
       "       [16.9 ],\n",
       "       [16.36],\n",
       "       [16.37],\n",
       "       [16.38],\n",
       "       [16.44],\n",
       "       [16.66],\n",
       "       [16.66],\n",
       "       [16.57],\n",
       "       [16.89],\n",
       "       [17.05],\n",
       "       [16.99],\n",
       "       [16.64],\n",
       "       [16.49],\n",
       "       [16.43],\n",
       "       [16.86],\n",
       "       [16.7 ],\n",
       "       [16.8 ],\n",
       "       [16.89],\n",
       "       [17.28],\n",
       "       [17.03],\n",
       "       [17.16],\n",
       "       [16.89],\n",
       "       [16.85],\n",
       "       [17.14],\n",
       "       [17.62],\n",
       "       [17.56],\n",
       "       [17.58],\n",
       "       [17.42],\n",
       "       [17.39],\n",
       "       [17.93],\n",
       "       [17.71],\n",
       "       [17.45],\n",
       "       [17.76],\n",
       "       [18.31],\n",
       "       [18.36],\n",
       "       [18.37],\n",
       "       [18.61],\n",
       "       [18.59],\n",
       "       [18.49],\n",
       "       [18.57],\n",
       "       [18.39],\n",
       "       [18.47],\n",
       "       [17.82],\n",
       "       [17.6 ],\n",
       "       [17.85],\n",
       "       [17.45],\n",
       "       [17.56],\n",
       "       [17.9 ],\n",
       "       [18.09],\n",
       "       [17.95],\n",
       "       [18.35],\n",
       "       [18.29],\n",
       "       [18.43],\n",
       "       [18.71],\n",
       "       [18.62],\n",
       "       [18.  ],\n",
       "       [18.37],\n",
       "       [18.44],\n",
       "       [18.52],\n",
       "       [18.28],\n",
       "       [18.02],\n",
       "       [18.02],\n",
       "       [18.35],\n",
       "       [18.19],\n",
       "       [18.43],\n",
       "       [18.44],\n",
       "       [18.41],\n",
       "       [18.93],\n",
       "       [19.72],\n",
       "       [20.58],\n",
       "       [21.  ],\n",
       "       [20.77],\n",
       "       [21.44],\n",
       "       [22.03],\n",
       "       [21.25],\n",
       "       [21.09],\n",
       "       [19.78],\n",
       "       [19.04],\n",
       "       [19.86],\n",
       "       [20.62],\n",
       "       [20.55],\n",
       "       [21.16],\n",
       "       [21.23],\n",
       "       [19.93],\n",
       "       [19.87],\n",
       "       [18.79],\n",
       "       [16.88],\n",
       "       [15.67],\n",
       "       [16.33],\n",
       "       [17.71],\n",
       "       [15.88],\n",
       "       [16.08],\n",
       "       [15.88],\n",
       "       [16.93],\n",
       "       [19.5 ],\n",
       "       [19.11],\n",
       "       [19.58],\n",
       "       [19.24],\n",
       "       [19.29],\n",
       "       [18.32],\n",
       "       [18.87],\n",
       "       [19.85],\n",
       "       [19.95],\n",
       "       [20.55],\n",
       "       [20.31],\n",
       "       [20.41],\n",
       "       [22.51],\n",
       "       [24.37],\n",
       "       [24.43],\n",
       "       [24.47],\n",
       "       [25.  ],\n",
       "       [24.54],\n",
       "       [24.92],\n",
       "       [24.82],\n",
       "       [26.48],\n",
       "       [26.74],\n",
       "       [27.1 ],\n",
       "       [26.93],\n",
       "       [26.96],\n",
       "       [26.55],\n",
       "       [25.72],\n",
       "       [26.93],\n",
       "       [27.38],\n",
       "       [28.19],\n",
       "       [26.56],\n",
       "       [27.26],\n",
       "       [27.39],\n",
       "       [26.02],\n",
       "       [26.04],\n",
       "       [26.12],\n",
       "       [27.14],\n",
       "       [28.04],\n",
       "       [27.2 ],\n",
       "       [28.1 ],\n",
       "       [27.25],\n",
       "       [26.26],\n",
       "       [26.32],\n",
       "       [24.73],\n",
       "       [23.92],\n",
       "       [23.95],\n",
       "       [24.  ],\n",
       "       [24.78],\n",
       "       [23.95],\n",
       "       [23.22],\n",
       "       [23.43]])"
      ]
     },
     "execution_count": 121,
     "metadata": {},
     "output_type": "execute_result"
    }
   ],
   "source": [
    "y_test_original"
   ]
  },
  {
   "cell_type": "code",
   "execution_count": 135,
   "metadata": {},
   "outputs": [],
   "source": [
    "last_60=y_test_original[-60:]"
   ]
  },
  {
   "cell_type": "code",
   "execution_count": 136,
   "metadata": {},
   "outputs": [
    {
     "data": {
      "text/plain": [
       "(60, 1)"
      ]
     },
     "execution_count": 136,
     "metadata": {},
     "output_type": "execute_result"
    }
   ],
   "source": [
    "last_60.shape"
   ]
  },
  {
   "cell_type": "code",
   "execution_count": 137,
   "metadata": {},
   "outputs": [],
   "source": [
    "last_60=scaler.transform(last_60)\n",
    "last_60=last_60.reshape(1,60,1)\n",
    "today_price=model.predict(last_60)"
   ]
  },
  {
   "cell_type": "code",
   "execution_count": 138,
   "metadata": {},
   "outputs": [
    {
     "data": {
      "text/plain": [
       "(1, 60, 1)"
      ]
     },
     "execution_count": 138,
     "metadata": {},
     "output_type": "execute_result"
    }
   ],
   "source": [
    "last_60.shape"
   ]
  },
  {
   "cell_type": "code",
   "execution_count": 139,
   "metadata": {},
   "outputs": [
    {
     "data": {
      "text/plain": [
       "array([[0.7563903]], dtype=float32)"
      ]
     },
     "execution_count": 139,
     "metadata": {},
     "output_type": "execute_result"
    }
   ],
   "source": [
    "today_price"
   ]
  },
  {
   "cell_type": "code",
   "execution_count": 141,
   "metadata": {},
   "outputs": [
    {
     "data": {
      "text/plain": [
       "array([[22.769684]], dtype=float32)"
      ]
     },
     "execution_count": 141,
     "metadata": {},
     "output_type": "execute_result"
    }
   ],
   "source": [
    "scaler.inverse_transform(today_price)"
   ]
  },
  {
   "cell_type": "code",
   "execution_count": null,
   "metadata": {},
   "outputs": [],
   "source": []
  }
 ],
 "metadata": {
  "kernelspec": {
   "display_name": "Python 3",
   "language": "python",
   "name": "python3"
  },
  "language_info": {
   "codemirror_mode": {
    "name": "ipython",
    "version": 3
   },
   "file_extension": ".py",
   "mimetype": "text/x-python",
   "name": "python",
   "nbconvert_exporter": "python",
   "pygments_lexer": "ipython3",
   "version": "3.7.3"
  }
 },
 "nbformat": 4,
 "nbformat_minor": 2
}
