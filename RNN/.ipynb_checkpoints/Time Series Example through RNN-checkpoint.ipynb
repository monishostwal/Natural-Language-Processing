{
 "cells": [
  {
   "cell_type": "markdown",
   "metadata": {},
   "source": [
    "# Visualizing data"
   ]
  },
  {
   "cell_type": "code",
   "execution_count": 1,
   "metadata": {},
   "outputs": [],
   "source": [
    "import pandas as pd"
   ]
  },
  {
   "cell_type": "code",
   "execution_count": 2,
   "metadata": {},
   "outputs": [],
   "source": [
    "df=pd.read_csv('./Google_Stock_Price_Train.csv')"
   ]
  },
  {
   "cell_type": "code",
   "execution_count": 106,
   "metadata": {},
   "outputs": [
    {
     "data": {
      "text/html": [
       "<div>\n",
       "<style scoped>\n",
       "    .dataframe tbody tr th:only-of-type {\n",
       "        vertical-align: middle;\n",
       "    }\n",
       "\n",
       "    .dataframe tbody tr th {\n",
       "        vertical-align: top;\n",
       "    }\n",
       "\n",
       "    .dataframe thead th {\n",
       "        text-align: right;\n",
       "    }\n",
       "</style>\n",
       "<table border=\"1\" class=\"dataframe\">\n",
       "  <thead>\n",
       "    <tr style=\"text-align: right;\">\n",
       "      <th></th>\n",
       "      <th>Date</th>\n",
       "      <th>Open</th>\n",
       "      <th>High</th>\n",
       "      <th>Low</th>\n",
       "      <th>Close</th>\n",
       "      <th>Volume</th>\n",
       "    </tr>\n",
       "  </thead>\n",
       "  <tbody>\n",
       "    <tr>\n",
       "      <th>0</th>\n",
       "      <td>1/3/2012</td>\n",
       "      <td>325.25</td>\n",
       "      <td>332.83</td>\n",
       "      <td>324.97</td>\n",
       "      <td>663.59</td>\n",
       "      <td>7,380,500</td>\n",
       "    </tr>\n",
       "    <tr>\n",
       "      <th>1</th>\n",
       "      <td>1/4/2012</td>\n",
       "      <td>331.27</td>\n",
       "      <td>333.87</td>\n",
       "      <td>329.08</td>\n",
       "      <td>666.45</td>\n",
       "      <td>5,749,400</td>\n",
       "    </tr>\n",
       "    <tr>\n",
       "      <th>2</th>\n",
       "      <td>1/5/2012</td>\n",
       "      <td>329.83</td>\n",
       "      <td>330.75</td>\n",
       "      <td>326.89</td>\n",
       "      <td>657.21</td>\n",
       "      <td>6,590,300</td>\n",
       "    </tr>\n",
       "    <tr>\n",
       "      <th>3</th>\n",
       "      <td>1/6/2012</td>\n",
       "      <td>328.34</td>\n",
       "      <td>328.77</td>\n",
       "      <td>323.68</td>\n",
       "      <td>648.24</td>\n",
       "      <td>5,405,900</td>\n",
       "    </tr>\n",
       "    <tr>\n",
       "      <th>4</th>\n",
       "      <td>1/9/2012</td>\n",
       "      <td>322.04</td>\n",
       "      <td>322.29</td>\n",
       "      <td>309.46</td>\n",
       "      <td>620.76</td>\n",
       "      <td>11,688,800</td>\n",
       "    </tr>\n",
       "  </tbody>\n",
       "</table>\n",
       "</div>"
      ],
      "text/plain": [
       "       Date    Open    High     Low   Close      Volume\n",
       "0  1/3/2012  325.25  332.83  324.97  663.59   7,380,500\n",
       "1  1/4/2012  331.27  333.87  329.08  666.45   5,749,400\n",
       "2  1/5/2012  329.83  330.75  326.89  657.21   6,590,300\n",
       "3  1/6/2012  328.34  328.77  323.68  648.24   5,405,900\n",
       "4  1/9/2012  322.04  322.29  309.46  620.76  11,688,800"
      ]
     },
     "execution_count": 106,
     "metadata": {},
     "output_type": "execute_result"
    }
   ],
   "source": [
    "df.head()"
   ]
  },
  {
   "cell_type": "code",
   "execution_count": 116,
   "metadata": {},
   "outputs": [
    {
     "data": {
      "text/plain": [
       "Date       object\n",
       "Open      float64\n",
       "High      float64\n",
       "Low       float64\n",
       "Close      object\n",
       "Volume     object\n",
       "dtype: object"
      ]
     },
     "execution_count": 116,
     "metadata": {},
     "output_type": "execute_result"
    }
   ],
   "source": [
    "df.dtypes"
   ]
  },
  {
   "cell_type": "code",
   "execution_count": 124,
   "metadata": {},
   "outputs": [],
   "source": [
    "training_set=df.iloc[:,1:3].values"
   ]
  },
  {
   "cell_type": "code",
   "execution_count": 125,
   "metadata": {},
   "outputs": [
    {
     "data": {
      "text/plain": [
       "(1258, 2)"
      ]
     },
     "execution_count": 125,
     "metadata": {},
     "output_type": "execute_result"
    }
   ],
   "source": [
    "training_set.shape"
   ]
  },
  {
   "cell_type": "markdown",
   "metadata": {},
   "source": [
    "# Feature Scaling"
   ]
  },
  {
   "cell_type": "code",
   "execution_count": 126,
   "metadata": {},
   "outputs": [],
   "source": [
    "from sklearn.preprocessing import MinMaxScaler"
   ]
  },
  {
   "cell_type": "code",
   "execution_count": 127,
   "metadata": {},
   "outputs": [],
   "source": [
    "sc=MinMaxScaler()"
   ]
  },
  {
   "cell_type": "code",
   "execution_count": 128,
   "metadata": {},
   "outputs": [],
   "source": [
    "training_set= sc.fit_transform(training_set)"
   ]
  },
  {
   "cell_type": "code",
   "execution_count": 129,
   "metadata": {},
   "outputs": [
    {
     "data": {
      "text/plain": [
       "array([[0.09640129, 0.09044931],\n",
       "       [0.09834351, 0.09823458],\n",
       "       [0.09251685, 0.09408623],\n",
       "       ...,\n",
       "       [0.95807422, 0.95844067],\n",
       "       [0.94257381, 0.95033338],\n",
       "       [0.93669113, 0.93421352]])"
      ]
     },
     "execution_count": 129,
     "metadata": {},
     "output_type": "execute_result"
    }
   ],
   "source": [
    "training_set"
   ]
  },
  {
   "cell_type": "markdown",
   "metadata": {},
   "source": [
    "# Splitting into training and testing"
   ]
  },
  {
   "cell_type": "code",
   "execution_count": 130,
   "metadata": {},
   "outputs": [],
   "source": [
    "X_train=training_set[0:1257]"
   ]
  },
  {
   "cell_type": "code",
   "execution_count": 131,
   "metadata": {},
   "outputs": [
    {
     "data": {
      "text/plain": [
       "array([[0.09640129, 0.09044931],\n",
       "       [0.09834351, 0.09823458],\n",
       "       [0.09251685, 0.09408623],\n",
       "       ...,\n",
       "       [0.96485331, 0.96688892],\n",
       "       [0.95807422, 0.95844067],\n",
       "       [0.94257381, 0.95033338]])"
      ]
     },
     "execution_count": 131,
     "metadata": {},
     "output_type": "execute_result"
    }
   ],
   "source": [
    "X_train"
   ]
  },
  {
   "cell_type": "code",
   "execution_count": 132,
   "metadata": {},
   "outputs": [],
   "source": [
    "y_train=training_set[1:1258]"
   ]
  },
  {
   "cell_type": "code",
   "execution_count": 133,
   "metadata": {},
   "outputs": [
    {
     "data": {
      "text/plain": [
       "array([[0.09834351, 0.09823458],\n",
       "       [0.09251685, 0.09408623],\n",
       "       [0.08881917, 0.08800576],\n",
       "       ...,\n",
       "       [0.95807422, 0.95844067],\n",
       "       [0.94257381, 0.95033338],\n",
       "       [0.93669113, 0.93421352]])"
      ]
     },
     "execution_count": 133,
     "metadata": {},
     "output_type": "execute_result"
    }
   ],
   "source": [
    "y_train"
   ]
  },
  {
   "cell_type": "markdown",
   "metadata": {},
   "source": [
    "# Reshaping"
   ]
  },
  {
   "cell_type": "code",
   "execution_count": 134,
   "metadata": {},
   "outputs": [],
   "source": [
    "# reshaping into 3 dim in which last dim has a gap of dates."
   ]
  },
  {
   "cell_type": "code",
   "execution_count": 136,
   "metadata": {},
   "outputs": [],
   "source": [
    "X_train=X_train.reshape(1257,2,1)"
   ]
  },
  {
   "cell_type": "code",
   "execution_count": 137,
   "metadata": {},
   "outputs": [
    {
     "data": {
      "text/plain": [
       "(1257, 2, 1)"
      ]
     },
     "execution_count": 137,
     "metadata": {},
     "output_type": "execute_result"
    }
   ],
   "source": [
    "X_train.shape"
   ]
  },
  {
   "cell_type": "code",
   "execution_count": 138,
   "metadata": {},
   "outputs": [
    {
     "data": {
      "text/plain": [
       "1257"
      ]
     },
     "execution_count": 138,
     "metadata": {},
     "output_type": "execute_result"
    }
   ],
   "source": [
    "X_train.shape[0]"
   ]
  },
  {
   "cell_type": "code",
   "execution_count": null,
   "metadata": {},
   "outputs": [],
   "source": []
  },
  {
   "cell_type": "markdown",
   "metadata": {},
   "source": [
    "# Creating model"
   ]
  },
  {
   "cell_type": "code",
   "execution_count": 139,
   "metadata": {},
   "outputs": [],
   "source": [
    "import keras"
   ]
  },
  {
   "cell_type": "code",
   "execution_count": 140,
   "metadata": {},
   "outputs": [],
   "source": [
    "from keras.models import Sequential"
   ]
  },
  {
   "cell_type": "code",
   "execution_count": 141,
   "metadata": {},
   "outputs": [],
   "source": [
    "model=Sequential()"
   ]
  },
  {
   "cell_type": "code",
   "execution_count": 142,
   "metadata": {},
   "outputs": [],
   "source": [
    "model.add(keras.layers.LSTM(4,activation='relu',input_shape=(2,1),return_sequences=True))\n",
    "model.add(keras.layers.LSTM(4))\n",
    "model.add(keras.layers.Dense(2))"
   ]
  },
  {
   "cell_type": "code",
   "execution_count": 143,
   "metadata": {},
   "outputs": [],
   "source": [
    "model.compile(optimizer='adam',loss='mean_squared_error')"
   ]
  },
  {
   "cell_type": "code",
   "execution_count": 144,
   "metadata": {},
   "outputs": [
    {
     "name": "stdout",
     "output_type": "stream",
     "text": [
      "Epoch 1/200\n",
      "1257/1257 [==============================] - 2s 2ms/step - loss: 0.2596\n",
      "Epoch 2/200\n",
      "1257/1257 [==============================] - 0s 156us/step - loss: 0.1850\n",
      "Epoch 3/200\n",
      "1257/1257 [==============================] - 0s 111us/step - loss: 0.1139\n",
      "Epoch 4/200\n",
      "1257/1257 [==============================] - 0s 115us/step - loss: 0.0628\n",
      "Epoch 5/200\n",
      "1257/1257 [==============================] - 0s 114us/step - loss: 0.0396\n",
      "Epoch 6/200\n",
      "1257/1257 [==============================] - 0s 116us/step - loss: 0.0241\n",
      "Epoch 7/200\n",
      "1257/1257 [==============================] - 0s 114us/step - loss: 0.0109\n",
      "Epoch 8/200\n",
      "1257/1257 [==============================] - 0s 116us/step - loss: 0.0031\n",
      "Epoch 9/200\n",
      "1257/1257 [==============================] - 0s 115us/step - loss: 6.8814e-04\n",
      "Epoch 10/200\n",
      "1257/1257 [==============================] - 0s 116us/step - loss: 3.6832e-04\n",
      "Epoch 11/200\n",
      "1257/1257 [==============================] - 0s 124us/step - loss: 3.3601e-04\n",
      "Epoch 12/200\n",
      "1257/1257 [==============================] - 0s 119us/step - loss: 3.2212e-04\n",
      "Epoch 13/200\n",
      "1257/1257 [==============================] - 0s 124us/step - loss: 3.1395e-04\n",
      "Epoch 14/200\n",
      "1257/1257 [==============================] - 0s 128us/step - loss: 3.0146e-04\n",
      "Epoch 15/200\n",
      "1257/1257 [==============================] - 0s 136us/step - loss: 2.9014e-04\n",
      "Epoch 16/200\n",
      "1257/1257 [==============================] - 0s 133us/step - loss: 2.8271e-04\n",
      "Epoch 17/200\n",
      "1257/1257 [==============================] - 0s 132us/step - loss: 2.7388e-04\n",
      "Epoch 18/200\n",
      "1257/1257 [==============================] - 0s 136us/step - loss: 2.6835e-04\n",
      "Epoch 19/200\n",
      "1257/1257 [==============================] - 0s 129us/step - loss: 2.6128e-04\n",
      "Epoch 20/200\n",
      "1257/1257 [==============================] - 0s 135us/step - loss: 2.5639e-04\n",
      "Epoch 21/200\n",
      "1257/1257 [==============================] - 0s 169us/step - loss: 2.5084e-04\n",
      "Epoch 22/200\n",
      "1257/1257 [==============================] - 0s 171us/step - loss: 2.4683e-04\n",
      "Epoch 23/200\n",
      "1257/1257 [==============================] - 0s 161us/step - loss: 2.4233e-04\n",
      "Epoch 24/200\n",
      "1257/1257 [==============================] - 0s 146us/step - loss: 2.4059e-04\n",
      "Epoch 25/200\n",
      "1257/1257 [==============================] - 0s 152us/step - loss: 2.3658e-04\n",
      "Epoch 26/200\n",
      "1257/1257 [==============================] - 0s 166us/step - loss: 2.3661e-04\n",
      "Epoch 27/200\n",
      "1257/1257 [==============================] - 0s 145us/step - loss: 2.3284e-04\n",
      "Epoch 28/200\n",
      "1257/1257 [==============================] - 0s 146us/step - loss: 2.3374e-04\n",
      "Epoch 29/200\n",
      "1257/1257 [==============================] - 0s 160us/step - loss: 2.3221e-04\n",
      "Epoch 30/200\n",
      "1257/1257 [==============================] - 0s 158us/step - loss: 2.3515e-04\n",
      "Epoch 31/200\n",
      "1257/1257 [==============================] - 0s 167us/step - loss: 2.3301e-04\n",
      "Epoch 32/200\n",
      "1257/1257 [==============================] - 0s 162us/step - loss: 2.3179e-04\n",
      "Epoch 33/200\n",
      "1257/1257 [==============================] - 0s 117us/step - loss: 2.3004e-04\n",
      "Epoch 34/200\n",
      "1257/1257 [==============================] - 0s 116us/step - loss: 2.2906e-04\n",
      "Epoch 35/200\n",
      "1257/1257 [==============================] - 0s 117us/step - loss: 2.3147e-04\n",
      "Epoch 36/200\n",
      "1257/1257 [==============================] - 0s 117us/step - loss: 2.2669e-04\n",
      "Epoch 37/200\n",
      "1257/1257 [==============================] - 0s 120us/step - loss: 2.2686e-04\n",
      "Epoch 38/200\n",
      "1257/1257 [==============================] - 0s 117us/step - loss: 2.2622e-04\n",
      "Epoch 39/200\n",
      "1257/1257 [==============================] - 0s 145us/step - loss: 2.2663e-04\n",
      "Epoch 40/200\n",
      "1257/1257 [==============================] - 0s 149us/step - loss: 2.2892e-04\n",
      "Epoch 41/200\n",
      "1257/1257 [==============================] - 0s 154us/step - loss: 2.2851e-04\n",
      "Epoch 42/200\n",
      "1257/1257 [==============================] - 0s 152us/step - loss: 2.2655e-04\n",
      "Epoch 43/200\n",
      "1257/1257 [==============================] - 0s 154us/step - loss: 2.3052e-04\n",
      "Epoch 44/200\n",
      "1257/1257 [==============================] - 0s 156us/step - loss: 2.2894e-04\n",
      "Epoch 45/200\n",
      "1257/1257 [==============================] - 0s 146us/step - loss: 2.3143e-04\n",
      "Epoch 46/200\n",
      "1257/1257 [==============================] - 0s 141us/step - loss: 2.2831e-04\n",
      "Epoch 47/200\n",
      "1257/1257 [==============================] - 0s 139us/step - loss: 2.2724e-04\n",
      "Epoch 48/200\n",
      "1257/1257 [==============================] - 0s 139us/step - loss: 2.3495e-04\n",
      "Epoch 49/200\n",
      "1257/1257 [==============================] - 0s 140us/step - loss: 2.2653e-04\n",
      "Epoch 50/200\n",
      "1257/1257 [==============================] - 0s 144us/step - loss: 2.2678e-04\n",
      "Epoch 51/200\n",
      "1257/1257 [==============================] - 0s 140us/step - loss: 2.2786e-04\n",
      "Epoch 52/200\n",
      "1257/1257 [==============================] - 0s 147us/step - loss: 2.2842e-04\n",
      "Epoch 53/200\n",
      "1257/1257 [==============================] - 0s 155us/step - loss: 2.2622e-04\n",
      "Epoch 54/200\n",
      "1257/1257 [==============================] - 0s 166us/step - loss: 2.2986e-04\n",
      "Epoch 55/200\n",
      "1257/1257 [==============================] - 0s 145us/step - loss: 2.3030e-04\n",
      "Epoch 56/200\n",
      "1257/1257 [==============================] - 0s 143us/step - loss: 2.2709e-04\n",
      "Epoch 57/200\n",
      "1257/1257 [==============================] - 0s 146us/step - loss: 2.2778e-04\n",
      "Epoch 58/200\n",
      "1257/1257 [==============================] - 0s 157us/step - loss: 2.2805e-04\n",
      "Epoch 59/200\n",
      "1257/1257 [==============================] - 0s 136us/step - loss: 2.3335e-04\n",
      "Epoch 60/200\n",
      "1257/1257 [==============================] - 0s 159us/step - loss: 2.2674e-04\n",
      "Epoch 61/200\n",
      "1257/1257 [==============================] - 0s 161us/step - loss: 2.3595e-04\n",
      "Epoch 62/200\n",
      "1257/1257 [==============================] - 0s 139us/step - loss: 2.2880e-04\n",
      "Epoch 63/200\n",
      "1257/1257 [==============================] - 0s 160us/step - loss: 2.2536e-04\n",
      "Epoch 64/200\n",
      "1257/1257 [==============================] - 0s 155us/step - loss: 2.2672e-04\n",
      "Epoch 65/200\n",
      "1257/1257 [==============================] - 0s 142us/step - loss: 2.2644e-04\n",
      "Epoch 66/200\n",
      "1257/1257 [==============================] - 0s 131us/step - loss: 2.2492e-04\n",
      "Epoch 67/200\n",
      "1257/1257 [==============================] - 0s 135us/step - loss: 2.2577e-04\n",
      "Epoch 68/200\n",
      "1257/1257 [==============================] - 0s 159us/step - loss: 2.3058e-04\n",
      "Epoch 69/200\n",
      "1257/1257 [==============================] - 0s 147us/step - loss: 2.2487e-04\n",
      "Epoch 70/200\n",
      "1257/1257 [==============================] - 0s 154us/step - loss: 2.2939e-04\n",
      "Epoch 71/200\n",
      "1257/1257 [==============================] - 0s 144us/step - loss: 2.3100e-04\n",
      "Epoch 72/200\n",
      "1257/1257 [==============================] - 0s 137us/step - loss: 2.2472e-04\n",
      "Epoch 73/200\n",
      "1257/1257 [==============================] - 0s 138us/step - loss: 2.2744e-04\n",
      "Epoch 74/200\n",
      "1257/1257 [==============================] - 0s 139us/step - loss: 2.3020e-04\n",
      "Epoch 75/200\n",
      "1257/1257 [==============================] - 0s 136us/step - loss: 2.2505e-04\n",
      "Epoch 76/200\n",
      "1257/1257 [==============================] - 0s 134us/step - loss: 2.3346e-04\n",
      "Epoch 77/200\n",
      "1257/1257 [==============================] - 0s 133us/step - loss: 2.2889e-04\n",
      "Epoch 78/200\n",
      "1257/1257 [==============================] - 0s 132us/step - loss: 2.2989e-04\n",
      "Epoch 79/200\n",
      "1257/1257 [==============================] - 0s 137us/step - loss: 2.2755e-04\n",
      "Epoch 80/200\n",
      "1257/1257 [==============================] - 0s 133us/step - loss: 2.2504e-04\n",
      "Epoch 81/200\n",
      "1257/1257 [==============================] - 0s 134us/step - loss: 2.3100e-04\n",
      "Epoch 82/200\n",
      "1257/1257 [==============================] - 0s 135us/step - loss: 2.2538e-04\n",
      "Epoch 83/200\n",
      "1257/1257 [==============================] - 0s 132us/step - loss: 2.2582e-04\n",
      "Epoch 84/200\n",
      "1257/1257 [==============================] - 0s 130us/step - loss: 2.2920e-04\n",
      "Epoch 85/200\n",
      "1257/1257 [==============================] - 0s 140us/step - loss: 2.2820e-04\n",
      "Epoch 86/200\n",
      "1257/1257 [==============================] - 0s 136us/step - loss: 2.2758e-04\n",
      "Epoch 87/200\n",
      "1257/1257 [==============================] - 0s 138us/step - loss: 2.2974e-04\n",
      "Epoch 88/200\n",
      "1257/1257 [==============================] - 0s 132us/step - loss: 2.2902e-04\n",
      "Epoch 89/200\n",
      "1257/1257 [==============================] - 0s 131us/step - loss: 2.3595e-04\n",
      "Epoch 90/200\n",
      "1257/1257 [==============================] - 0s 147us/step - loss: 2.3433e-04\n",
      "Epoch 91/200\n"
     ]
    },
    {
     "name": "stdout",
     "output_type": "stream",
     "text": [
      "1257/1257 [==============================] - 0s 142us/step - loss: 2.3075e-04\n",
      "Epoch 92/200\n",
      "1257/1257 [==============================] - 0s 114us/step - loss: 2.2894e-04\n",
      "Epoch 93/200\n",
      "1257/1257 [==============================] - 0s 108us/step - loss: 2.2588e-04\n",
      "Epoch 94/200\n",
      "1257/1257 [==============================] - 0s 108us/step - loss: 2.2209e-04\n",
      "Epoch 95/200\n",
      "1257/1257 [==============================] - 0s 112us/step - loss: 2.2306e-04\n",
      "Epoch 96/200\n",
      "1257/1257 [==============================] - 0s 113us/step - loss: 2.2858e-04\n",
      "Epoch 97/200\n",
      "1257/1257 [==============================] - 0s 113us/step - loss: 2.2358e-04\n",
      "Epoch 98/200\n",
      "1257/1257 [==============================] - 0s 115us/step - loss: 2.2474e-04\n",
      "Epoch 99/200\n",
      "1257/1257 [==============================] - 0s 113us/step - loss: 2.2532e-04\n",
      "Epoch 100/200\n",
      "1257/1257 [==============================] - 0s 119us/step - loss: 2.2808e-04\n",
      "Epoch 101/200\n",
      "1257/1257 [==============================] - 0s 113us/step - loss: 2.2464e-04\n",
      "Epoch 102/200\n",
      "1257/1257 [==============================] - 0s 112us/step - loss: 2.2354e-04\n",
      "Epoch 103/200\n",
      "1257/1257 [==============================] - 0s 116us/step - loss: 2.2760e-04\n",
      "Epoch 104/200\n",
      "1257/1257 [==============================] - 0s 120us/step - loss: 2.2677e-04\n",
      "Epoch 105/200\n",
      "1257/1257 [==============================] - 0s 117us/step - loss: 2.2368e-04\n",
      "Epoch 106/200\n",
      "1257/1257 [==============================] - 0s 115us/step - loss: 2.3721e-04\n",
      "Epoch 107/200\n",
      "1257/1257 [==============================] - 0s 117us/step - loss: 2.2401e-04\n",
      "Epoch 108/200\n",
      "1257/1257 [==============================] - 0s 118us/step - loss: 2.2604e-04\n",
      "Epoch 109/200\n",
      "1257/1257 [==============================] - 0s 117us/step - loss: 2.3695e-04\n",
      "Epoch 110/200\n",
      "1257/1257 [==============================] - 0s 114us/step - loss: 2.3047e-04\n",
      "Epoch 111/200\n",
      "1257/1257 [==============================] - 0s 116us/step - loss: 2.2984e-04\n",
      "Epoch 112/200\n",
      "1257/1257 [==============================] - 0s 120us/step - loss: 2.3505e-04\n",
      "Epoch 113/200\n",
      "1257/1257 [==============================] - 0s 117us/step - loss: 2.2888e-04\n",
      "Epoch 114/200\n",
      "1257/1257 [==============================] - 0s 117us/step - loss: 2.2304e-04\n",
      "Epoch 115/200\n",
      "1257/1257 [==============================] - 0s 128us/step - loss: 2.3032e-04\n",
      "Epoch 116/200\n",
      "1257/1257 [==============================] - 0s 116us/step - loss: 2.2390e-04\n",
      "Epoch 117/200\n",
      "1257/1257 [==============================] - 0s 118us/step - loss: 2.2714e-04\n",
      "Epoch 118/200\n",
      "1257/1257 [==============================] - 0s 115us/step - loss: 2.2738e-04\n",
      "Epoch 119/200\n",
      "1257/1257 [==============================] - 0s 116us/step - loss: 2.3387e-04\n",
      "Epoch 120/200\n",
      "1257/1257 [==============================] - 0s 117us/step - loss: 2.2575e-04\n",
      "Epoch 121/200\n",
      "1257/1257 [==============================] - 0s 116us/step - loss: 2.2352e-04\n",
      "Epoch 122/200\n",
      "1257/1257 [==============================] - 0s 119us/step - loss: 2.3574e-04\n",
      "Epoch 123/200\n",
      "1257/1257 [==============================] - 0s 138us/step - loss: 2.2544e-04\n",
      "Epoch 124/200\n",
      "1257/1257 [==============================] - 0s 137us/step - loss: 2.2443e-04\n",
      "Epoch 125/200\n",
      "1257/1257 [==============================] - 0s 181us/step - loss: 2.2185e-04\n",
      "Epoch 126/200\n",
      "1257/1257 [==============================] - 0s 156us/step - loss: 2.2301e-04\n",
      "Epoch 127/200\n",
      "1257/1257 [==============================] - 0s 117us/step - loss: 2.2213e-04\n",
      "Epoch 128/200\n",
      "1257/1257 [==============================] - 0s 116us/step - loss: 2.3463e-04\n",
      "Epoch 129/200\n",
      "1257/1257 [==============================] - 0s 111us/step - loss: 2.4518e-04\n",
      "Epoch 130/200\n",
      "1257/1257 [==============================] - 0s 113us/step - loss: 2.2267e-04\n",
      "Epoch 131/200\n",
      "1257/1257 [==============================] - 0s 113us/step - loss: 2.2659e-04\n",
      "Epoch 132/200\n",
      "1257/1257 [==============================] - 0s 119us/step - loss: 2.2805e-04\n",
      "Epoch 133/200\n",
      "1257/1257 [==============================] - 0s 118us/step - loss: 2.2176e-04\n",
      "Epoch 134/200\n",
      "1257/1257 [==============================] - 0s 117us/step - loss: 2.2432e-04\n",
      "Epoch 135/200\n",
      "1257/1257 [==============================] - 0s 124us/step - loss: 2.2700e-04\n",
      "Epoch 136/200\n",
      "1257/1257 [==============================] - 0s 120us/step - loss: 2.2511e-04\n",
      "Epoch 137/200\n",
      "1257/1257 [==============================] - 0s 132us/step - loss: 2.2149e-04\n",
      "Epoch 138/200\n",
      "1257/1257 [==============================] - 0s 131us/step - loss: 2.3680e-04\n",
      "Epoch 139/200\n",
      "1257/1257 [==============================] - 0s 121us/step - loss: 2.2423e-04\n",
      "Epoch 140/200\n",
      "1257/1257 [==============================] - 0s 124us/step - loss: 2.2546e-04\n",
      "Epoch 141/200\n",
      "1257/1257 [==============================] - 0s 120us/step - loss: 2.2828e-04\n",
      "Epoch 142/200\n",
      "1257/1257 [==============================] - 0s 126us/step - loss: 2.2632e-04\n",
      "Epoch 143/200\n",
      "1257/1257 [==============================] - 0s 127us/step - loss: 2.2389e-04\n",
      "Epoch 144/200\n",
      "1257/1257 [==============================] - 0s 122us/step - loss: 2.3359e-04\n",
      "Epoch 145/200\n",
      "1257/1257 [==============================] - 0s 128us/step - loss: 2.3231e-04\n",
      "Epoch 146/200\n",
      "1257/1257 [==============================] - 0s 130us/step - loss: 2.2324e-04\n",
      "Epoch 147/200\n",
      "1257/1257 [==============================] - 0s 132us/step - loss: 2.3380e-04\n",
      "Epoch 148/200\n",
      "1257/1257 [==============================] - 0s 128us/step - loss: 2.1895e-04\n",
      "Epoch 149/200\n",
      "1257/1257 [==============================] - 0s 129us/step - loss: 2.2421e-04\n",
      "Epoch 150/200\n",
      "1257/1257 [==============================] - 0s 130us/step - loss: 2.2150e-04\n",
      "Epoch 151/200\n",
      "1257/1257 [==============================] - 0s 131us/step - loss: 2.2231e-04\n",
      "Epoch 152/200\n",
      "1257/1257 [==============================] - 0s 129us/step - loss: 2.2380e-04\n",
      "Epoch 153/200\n",
      "1257/1257 [==============================] - 0s 135us/step - loss: 2.2469e-04\n",
      "Epoch 154/200\n",
      "1257/1257 [==============================] - 0s 126us/step - loss: 2.2206e-04\n",
      "Epoch 155/200\n",
      "1257/1257 [==============================] - 0s 127us/step - loss: 2.1813e-04\n",
      "Epoch 156/200\n",
      "1257/1257 [==============================] - 0s 134us/step - loss: 2.2001e-04\n",
      "Epoch 157/200\n",
      "1257/1257 [==============================] - 0s 129us/step - loss: 2.3205e-04\n",
      "Epoch 158/200\n",
      "1257/1257 [==============================] - 0s 156us/step - loss: 2.2595e-04\n",
      "Epoch 159/200\n",
      "1257/1257 [==============================] - 0s 121us/step - loss: 2.3135e-04\n",
      "Epoch 160/200\n",
      "1257/1257 [==============================] - 0s 112us/step - loss: 2.2543e-04\n",
      "Epoch 161/200\n",
      "1257/1257 [==============================] - 0s 113us/step - loss: 2.1837e-04\n",
      "Epoch 162/200\n",
      "1257/1257 [==============================] - 0s 120us/step - loss: 2.2018e-04\n",
      "Epoch 163/200\n",
      "1257/1257 [==============================] - 0s 121us/step - loss: 2.1908e-04\n",
      "Epoch 164/200\n",
      "1257/1257 [==============================] - 0s 121us/step - loss: 2.3451e-04\n",
      "Epoch 165/200\n",
      "1257/1257 [==============================] - 0s 136us/step - loss: 2.2469e-04\n",
      "Epoch 166/200\n",
      "1257/1257 [==============================] - 0s 142us/step - loss: 2.2722e-04\n",
      "Epoch 167/200\n",
      "1257/1257 [==============================] - 0s 133us/step - loss: 2.1984e-04\n",
      "Epoch 168/200\n",
      "1257/1257 [==============================] - 0s 130us/step - loss: 2.2042e-04\n",
      "Epoch 169/200\n",
      "1257/1257 [==============================] - 0s 134us/step - loss: 2.2139e-04\n",
      "Epoch 170/200\n",
      "1257/1257 [==============================] - 0s 132us/step - loss: 2.2860e-04\n",
      "Epoch 171/200\n",
      "1257/1257 [==============================] - 0s 135us/step - loss: 2.3403e-04\n",
      "Epoch 172/200\n",
      "1257/1257 [==============================] - 0s 142us/step - loss: 2.2168e-04\n",
      "Epoch 173/200\n",
      "1257/1257 [==============================] - 0s 149us/step - loss: 2.2584e-04\n",
      "Epoch 174/200\n",
      "1257/1257 [==============================] - 0s 131us/step - loss: 2.3252e-04\n",
      "Epoch 175/200\n",
      "1257/1257 [==============================] - 0s 130us/step - loss: 2.2872e-04\n",
      "Epoch 176/200\n",
      "1257/1257 [==============================] - 0s 133us/step - loss: 2.3007e-04\n",
      "Epoch 177/200\n",
      "1257/1257 [==============================] - 0s 131us/step - loss: 2.3081e-04\n",
      "Epoch 178/200\n",
      "1257/1257 [==============================] - 0s 130us/step - loss: 2.1921e-04\n",
      "Epoch 179/200\n",
      "1257/1257 [==============================] - 0s 132us/step - loss: 2.2298e-04\n",
      "Epoch 180/200\n"
     ]
    },
    {
     "name": "stdout",
     "output_type": "stream",
     "text": [
      "1257/1257 [==============================] - 0s 134us/step - loss: 2.1878e-04\n",
      "Epoch 181/200\n",
      "1257/1257 [==============================] - 0s 137us/step - loss: 2.2081e-04\n",
      "Epoch 182/200\n",
      "1257/1257 [==============================] - 0s 128us/step - loss: 2.2324e-04\n",
      "Epoch 183/200\n",
      "1257/1257 [==============================] - 0s 128us/step - loss: 2.2864e-04\n",
      "Epoch 184/200\n",
      "1257/1257 [==============================] - 0s 131us/step - loss: 2.2572e-04\n",
      "Epoch 185/200\n",
      "1257/1257 [==============================] - 0s 127us/step - loss: 2.1856e-04\n",
      "Epoch 186/200\n",
      "1257/1257 [==============================] - 0s 132us/step - loss: 2.1685e-04\n",
      "Epoch 187/200\n",
      "1257/1257 [==============================] - 0s 132us/step - loss: 2.3346e-04\n",
      "Epoch 188/200\n",
      "1257/1257 [==============================] - 0s 128us/step - loss: 2.2881e-04\n",
      "Epoch 189/200\n",
      "1257/1257 [==============================] - 0s 143us/step - loss: 2.2912e-04\n",
      "Epoch 190/200\n",
      "1257/1257 [==============================] - 0s 137us/step - loss: 2.1768e-04\n",
      "Epoch 191/200\n",
      "1257/1257 [==============================] - 0s 114us/step - loss: 2.2363e-04\n",
      "Epoch 192/200\n",
      "1257/1257 [==============================] - 0s 117us/step - loss: 2.2069e-04\n",
      "Epoch 193/200\n",
      "1257/1257 [==============================] - 0s 111us/step - loss: 2.3612e-04\n",
      "Epoch 194/200\n",
      "1257/1257 [==============================] - 0s 118us/step - loss: 2.1922e-04\n",
      "Epoch 195/200\n",
      "1257/1257 [==============================] - 0s 113us/step - loss: 2.1759e-04\n",
      "Epoch 196/200\n",
      "1257/1257 [==============================] - 0s 113us/step - loss: 2.1767e-04\n",
      "Epoch 197/200\n",
      "1257/1257 [==============================] - 0s 112us/step - loss: 2.2318e-04\n",
      "Epoch 198/200\n",
      "1257/1257 [==============================] - 0s 115us/step - loss: 2.2026e-04\n",
      "Epoch 199/200\n",
      "1257/1257 [==============================] - 0s 112us/step - loss: 2.1727e-04\n",
      "Epoch 200/200\n",
      "1257/1257 [==============================] - 0s 113us/step - loss: 2.2229e-04\n"
     ]
    },
    {
     "data": {
      "text/plain": [
       "<keras.callbacks.callbacks.History at 0xd7e4d0ae80>"
      ]
     },
     "execution_count": 144,
     "metadata": {},
     "output_type": "execute_result"
    }
   ],
   "source": [
    "model.fit(X_train,y_train,batch_size=32,epochs=200)"
   ]
  },
  {
   "cell_type": "code",
   "execution_count": 145,
   "metadata": {},
   "outputs": [],
   "source": [
    "test_data=pd.read_csv('./Google_Stock_Price_Test.csv')"
   ]
  },
  {
   "cell_type": "code",
   "execution_count": 146,
   "metadata": {},
   "outputs": [],
   "source": [
    "stock_test_data=test_data.iloc[:,1:3].values"
   ]
  },
  {
   "cell_type": "code",
   "execution_count": 147,
   "metadata": {},
   "outputs": [
    {
     "data": {
      "text/plain": [
       "array([[778.81, 789.63],\n",
       "       [788.36, 791.34],\n",
       "       [786.08, 794.48],\n",
       "       [795.26, 807.9 ],\n",
       "       [806.4 , 809.97],\n",
       "       [807.86, 809.13],\n",
       "       [805.  , 808.15],\n",
       "       [807.14, 807.39],\n",
       "       [807.48, 811.22],\n",
       "       [807.08, 807.14],\n",
       "       [805.81, 806.21],\n",
       "       [805.12, 809.48],\n",
       "       [806.91, 806.91],\n",
       "       [807.25, 820.87],\n",
       "       [822.3 , 825.9 ],\n",
       "       [829.62, 835.77],\n",
       "       [837.81, 838.  ],\n",
       "       [834.71, 841.95],\n",
       "       [814.66, 815.84],\n",
       "       [796.86, 801.25]])"
      ]
     },
     "execution_count": 147,
     "metadata": {},
     "output_type": "execute_result"
    }
   ],
   "source": [
    "stock_test_data"
   ]
  },
  {
   "cell_type": "code",
   "execution_count": 148,
   "metadata": {},
   "outputs": [],
   "source": [
    "inputs=sc.fit_transform(stock_test_data)"
   ]
  },
  {
   "cell_type": "code",
   "execution_count": 149,
   "metadata": {},
   "outputs": [
    {
     "data": {
      "text/plain": [
       "array([[0.        , 0.        ],\n",
       "       [0.16186441, 0.03268349],\n",
       "       [0.12322034, 0.09269878],\n",
       "       [0.27881356, 0.34919725],\n",
       "       [0.46762712, 0.38876147],\n",
       "       [0.49237288, 0.37270642],\n",
       "       [0.44389831, 0.35397554],\n",
       "       [0.48016949, 0.33944954],\n",
       "       [0.4859322 , 0.41265291],\n",
       "       [0.47915254, 0.33467125],\n",
       "       [0.45762712, 0.31689602],\n",
       "       [0.4459322 , 0.37939602],\n",
       "       [0.47627119, 0.33027523],\n",
       "       [0.4820339 , 0.5970948 ],\n",
       "       [0.73711864, 0.69323394],\n",
       "       [0.86118644, 0.88188073],\n",
       "       [1.        , 0.92450306],\n",
       "       [0.94745763, 1.        ],\n",
       "       [0.60762712, 0.50095566],\n",
       "       [0.3059322 , 0.2220948 ]])"
      ]
     },
     "execution_count": 149,
     "metadata": {},
     "output_type": "execute_result"
    }
   ],
   "source": [
    "inputs"
   ]
  },
  {
   "cell_type": "code",
   "execution_count": 150,
   "metadata": {},
   "outputs": [
    {
     "data": {
      "text/plain": [
       "(20, 2)"
      ]
     },
     "execution_count": 150,
     "metadata": {},
     "output_type": "execute_result"
    }
   ],
   "source": [
    "inputs.shape"
   ]
  },
  {
   "cell_type": "code",
   "execution_count": 152,
   "metadata": {},
   "outputs": [],
   "source": [
    "inputs=inputs.reshape(20,2,1)"
   ]
  },
  {
   "cell_type": "code",
   "execution_count": 153,
   "metadata": {},
   "outputs": [],
   "source": [
    "predictions=model.predict(inputs)"
   ]
  },
  {
   "cell_type": "code",
   "execution_count": 154,
   "metadata": {},
   "outputs": [],
   "source": [
    "predicted_stock_price=sc.inverse_transform(predictions)"
   ]
  },
  {
   "cell_type": "code",
   "execution_count": 155,
   "metadata": {},
   "outputs": [
    {
     "data": {
      "text/plain": [
       "array([[779.2902 , 790.0175 ],\n",
       "       [785.58246, 795.5291 ],\n",
       "       [785.40393, 795.42535],\n",
       "       [796.561  , 805.3289 ],\n",
       "       [804.84735, 812.54614],\n",
       "       [805.4786 , 813.07874],\n",
       "       [803.1572 , 811.04956],\n",
       "       [804.2724 , 812.0026 ],\n",
       "       [806.08765, 813.64325],\n",
       "       [804.128  , 811.87305],\n",
       "       [802.89197, 810.78577],\n",
       "       [803.7866 , 811.6181 ],\n",
       "       [803.9184 , 811.6873 ],\n",
       "       [809.81805, 817.04407],\n",
       "       [821.84296, 827.59875],\n",
       "       [830.1773 , 835.0494 ],\n",
       "       [835.77637, 839.99524],\n",
       "       [835.43726, 839.761  ],\n",
       "       [812.7995 , 819.5504 ],\n",
       "       [794.9264 , 803.80035]], dtype=float32)"
      ]
     },
     "execution_count": 155,
     "metadata": {},
     "output_type": "execute_result"
    }
   ],
   "source": [
    "predicted_stock_price"
   ]
  },
  {
   "cell_type": "code",
   "execution_count": 156,
   "metadata": {},
   "outputs": [],
   "source": [
    "import matplotlib.pyplot as plt"
   ]
  },
  {
   "cell_type": "code",
   "execution_count": 159,
   "metadata": {},
   "outputs": [
    {
     "data": {
      "image/png": "[encoded data removed]",
      "text/plain": [
       "<Figure size 432x288 with 1 Axes>"
      ]
     },
     "metadata": {
      "needs_background": "light"
     },
     "output_type": "display_data"
    }
   ],
   "source": [
    "plt.plot(stock_test_data[:,0],color='black')\n",
    "plt.plot(predicted_stock_price[:,0],color='green')\n",
    "plt.show()"
   ]
  },
  {
   "cell_type": "code",
   "execution_count": 160,
   "metadata": {},
   "outputs": [
    {
     "data": {
      "image/png": "[encoded data removed]",
      "text/plain": [
       "<Figure size 432x288 with 1 Axes>"
      ]
     },
     "metadata": {
      "needs_background": "light"
     },
     "output_type": "display_data"
    }
   ],
   "source": [
    "plt.plot(stock_test_data[:,1],color='black')\n",
    "plt.plot(predicted_stock_price[:,1],color='green')\n",
    "plt.show()"
   ]
  },
  {
   "cell_type": "code",
   "execution_count": null,
   "metadata": {},
   "outputs": [],
   "source": []
  }
 ],
 "metadata": {
  "kernelspec": {
   "display_name": "Python 3",
   "language": "python",
   "name": "python3"
  },
  "language_info": {
   "codemirror_mode": {
    "name": "ipython",
    "version": 3
   },
   "file_extension": ".py",
   "mimetype": "text/x-python",
   "name": "python",
   "nbconvert_exporter": "python",
   "pygments_lexer": "ipython3",
   "version": "3.7.3"
  }
 },
 "nbformat": 4,
 "nbformat_minor": 2
}
