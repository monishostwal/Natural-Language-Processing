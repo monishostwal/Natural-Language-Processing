{
 "cells": [
  {
   "cell_type": "code",
   "execution_count": 1,
   "metadata": {},
   "outputs": [],
   "source": [
    "import pandas_datareader as pdr"
   ]
  },
  {
   "cell_type": "code",
   "execution_count": 2,
   "metadata": {},
   "outputs": [],
   "source": [
    "df=pdr.get_data_tiingo('AAPL',api_key='2b0cb9d53c6c85589917246bec809d28fd8510ef')"
   ]
  },
  {
   "cell_type": "code",
   "execution_count": 3,
   "metadata": {},
   "outputs": [
    {
     "data": {
      "text/plain": [
       "pandas.core.frame.DataFrame"
      ]
     },
     "execution_count": 3,
     "metadata": {},
     "output_type": "execute_result"
    }
   ],
   "source": [
    "type(df)"
   ]
  },
  {
   "cell_type": "code",
   "execution_count": 4,
   "metadata": {},
   "outputs": [],
   "source": [
    "df.to_csv('./AAPL.csv')"
   ]
  },
  {
   "cell_type": "code",
   "execution_count": 5,
   "metadata": {},
   "outputs": [
    {
     "data": {
      "text/html": [
       "<div>\n",
       "<style scoped>\n",
       "    .dataframe tbody tr th:only-of-type {\n",
       "        vertical-align: middle;\n",
       "    }\n",
       "\n",
       "    .dataframe tbody tr th {\n",
       "        vertical-align: top;\n",
       "    }\n",
       "\n",
       "    .dataframe thead th {\n",
       "        text-align: right;\n",
       "    }\n",
       "</style>\n",
       "<table border=\"1\" class=\"dataframe\">\n",
       "  <thead>\n",
       "    <tr style=\"text-align: right;\">\n",
       "      <th></th>\n",
       "      <th></th>\n",
       "      <th>close</th>\n",
       "      <th>high</th>\n",
       "      <th>low</th>\n",
       "      <th>open</th>\n",
       "      <th>volume</th>\n",
       "      <th>adjClose</th>\n",
       "      <th>adjHigh</th>\n",
       "      <th>adjLow</th>\n",
       "      <th>adjOpen</th>\n",
       "      <th>adjVolume</th>\n",
       "      <th>divCash</th>\n",
       "      <th>splitFactor</th>\n",
       "    </tr>\n",
       "    <tr>\n",
       "      <th>symbol</th>\n",
       "      <th>date</th>\n",
       "      <th></th>\n",
       "      <th></th>\n",
       "      <th></th>\n",
       "      <th></th>\n",
       "      <th></th>\n",
       "      <th></th>\n",
       "      <th></th>\n",
       "      <th></th>\n",
       "      <th></th>\n",
       "      <th></th>\n",
       "      <th></th>\n",
       "      <th></th>\n",
       "    </tr>\n",
       "  </thead>\n",
       "  <tbody>\n",
       "    <tr>\n",
       "      <th rowspan=\"5\" valign=\"top\">AAPL</th>\n",
       "      <th>2015-06-01 00:00:00+00:00</th>\n",
       "      <td>130.535</td>\n",
       "      <td>131.390</td>\n",
       "      <td>130.05</td>\n",
       "      <td>131.20</td>\n",
       "      <td>32112797</td>\n",
       "      <td>120.291057</td>\n",
       "      <td>121.078960</td>\n",
       "      <td>119.844118</td>\n",
       "      <td>120.903870</td>\n",
       "      <td>32112797</td>\n",
       "      <td>0.0</td>\n",
       "      <td>1.0</td>\n",
       "    </tr>\n",
       "    <tr>\n",
       "      <th>2015-06-02 00:00:00+00:00</th>\n",
       "      <td>129.960</td>\n",
       "      <td>130.655</td>\n",
       "      <td>129.32</td>\n",
       "      <td>129.86</td>\n",
       "      <td>33667627</td>\n",
       "      <td>119.761181</td>\n",
       "      <td>120.401640</td>\n",
       "      <td>119.171406</td>\n",
       "      <td>119.669029</td>\n",
       "      <td>33667627</td>\n",
       "      <td>0.0</td>\n",
       "      <td>1.0</td>\n",
       "    </tr>\n",
       "    <tr>\n",
       "      <th>2015-06-03 00:00:00+00:00</th>\n",
       "      <td>130.120</td>\n",
       "      <td>130.940</td>\n",
       "      <td>129.90</td>\n",
       "      <td>130.66</td>\n",
       "      <td>30983542</td>\n",
       "      <td>119.908625</td>\n",
       "      <td>120.664274</td>\n",
       "      <td>119.705890</td>\n",
       "      <td>120.406248</td>\n",
       "      <td>30983542</td>\n",
       "      <td>0.0</td>\n",
       "      <td>1.0</td>\n",
       "    </tr>\n",
       "    <tr>\n",
       "      <th>2015-06-04 00:00:00+00:00</th>\n",
       "      <td>129.360</td>\n",
       "      <td>130.580</td>\n",
       "      <td>128.91</td>\n",
       "      <td>129.58</td>\n",
       "      <td>38450118</td>\n",
       "      <td>119.208267</td>\n",
       "      <td>120.332526</td>\n",
       "      <td>118.793582</td>\n",
       "      <td>119.411002</td>\n",
       "      <td>38450118</td>\n",
       "      <td>0.0</td>\n",
       "      <td>1.0</td>\n",
       "    </tr>\n",
       "    <tr>\n",
       "      <th>2015-06-05 00:00:00+00:00</th>\n",
       "      <td>128.650</td>\n",
       "      <td>129.690</td>\n",
       "      <td>128.36</td>\n",
       "      <td>129.50</td>\n",
       "      <td>35626800</td>\n",
       "      <td>118.553986</td>\n",
       "      <td>119.512370</td>\n",
       "      <td>118.286744</td>\n",
       "      <td>119.337280</td>\n",
       "      <td>35626800</td>\n",
       "      <td>0.0</td>\n",
       "      <td>1.0</td>\n",
       "    </tr>\n",
       "  </tbody>\n",
       "</table>\n",
       "</div>"
      ],
      "text/plain": [
       "                                    close     high     low    open    volume  \\\n",
       "symbol date                                                                    \n",
       "AAPL   2015-06-01 00:00:00+00:00  130.535  131.390  130.05  131.20  32112797   \n",
       "       2015-06-02 00:00:00+00:00  129.960  130.655  129.32  129.86  33667627   \n",
       "       2015-06-03 00:00:00+00:00  130.120  130.940  129.90  130.66  30983542   \n",
       "       2015-06-04 00:00:00+00:00  129.360  130.580  128.91  129.58  38450118   \n",
       "       2015-06-05 00:00:00+00:00  128.650  129.690  128.36  129.50  35626800   \n",
       "\n",
       "                                    adjClose     adjHigh      adjLow  \\\n",
       "symbol date                                                            \n",
       "AAPL   2015-06-01 00:00:00+00:00  120.291057  121.078960  119.844118   \n",
       "       2015-06-02 00:00:00+00:00  119.761181  120.401640  119.171406   \n",
       "       2015-06-03 00:00:00+00:00  119.908625  120.664274  119.705890   \n",
       "       2015-06-04 00:00:00+00:00  119.208267  120.332526  118.793582   \n",
       "       2015-06-05 00:00:00+00:00  118.553986  119.512370  118.286744   \n",
       "\n",
       "                                     adjOpen  adjVolume  divCash  splitFactor  \n",
       "symbol date                                                                    \n",
       "AAPL   2015-06-01 00:00:00+00:00  120.903870   32112797      0.0          1.0  \n",
       "       2015-06-02 00:00:00+00:00  119.669029   33667627      0.0          1.0  \n",
       "       2015-06-03 00:00:00+00:00  120.406248   30983542      0.0          1.0  \n",
       "       2015-06-04 00:00:00+00:00  119.411002   38450118      0.0          1.0  \n",
       "       2015-06-05 00:00:00+00:00  119.337280   35626800      0.0          1.0  "
      ]
     },
     "execution_count": 5,
     "metadata": {},
     "output_type": "execute_result"
    }
   ],
   "source": [
    "df.head()"
   ]
  },
  {
   "cell_type": "code",
   "execution_count": 6,
   "metadata": {},
   "outputs": [
    {
     "data": {
      "text/html": [
       "<div>\n",
       "<style scoped>\n",
       "    .dataframe tbody tr th:only-of-type {\n",
       "        vertical-align: middle;\n",
       "    }\n",
       "\n",
       "    .dataframe tbody tr th {\n",
       "        vertical-align: top;\n",
       "    }\n",
       "\n",
       "    .dataframe thead th {\n",
       "        text-align: right;\n",
       "    }\n",
       "</style>\n",
       "<table border=\"1\" class=\"dataframe\">\n",
       "  <thead>\n",
       "    <tr style=\"text-align: right;\">\n",
       "      <th></th>\n",
       "      <th></th>\n",
       "      <th>close</th>\n",
       "      <th>high</th>\n",
       "      <th>low</th>\n",
       "      <th>open</th>\n",
       "      <th>volume</th>\n",
       "      <th>adjClose</th>\n",
       "      <th>adjHigh</th>\n",
       "      <th>adjLow</th>\n",
       "      <th>adjOpen</th>\n",
       "      <th>adjVolume</th>\n",
       "      <th>divCash</th>\n",
       "      <th>splitFactor</th>\n",
       "    </tr>\n",
       "    <tr>\n",
       "      <th>symbol</th>\n",
       "      <th>date</th>\n",
       "      <th></th>\n",
       "      <th></th>\n",
       "      <th></th>\n",
       "      <th></th>\n",
       "      <th></th>\n",
       "      <th></th>\n",
       "      <th></th>\n",
       "      <th></th>\n",
       "      <th></th>\n",
       "      <th></th>\n",
       "      <th></th>\n",
       "      <th></th>\n",
       "    </tr>\n",
       "  </thead>\n",
       "  <tbody>\n",
       "    <tr>\n",
       "      <th rowspan=\"11\" valign=\"top\">AAPL</th>\n",
       "      <th>2015-06-01 00:00:00+00:00</th>\n",
       "      <td>130.535</td>\n",
       "      <td>131.390</td>\n",
       "      <td>130.05</td>\n",
       "      <td>131.20</td>\n",
       "      <td>32112797</td>\n",
       "      <td>120.291057</td>\n",
       "      <td>121.078960</td>\n",
       "      <td>119.844118</td>\n",
       "      <td>120.903870</td>\n",
       "      <td>32112797</td>\n",
       "      <td>0.0</td>\n",
       "      <td>1.0</td>\n",
       "    </tr>\n",
       "    <tr>\n",
       "      <th>2015-06-02 00:00:00+00:00</th>\n",
       "      <td>129.960</td>\n",
       "      <td>130.655</td>\n",
       "      <td>129.32</td>\n",
       "      <td>129.86</td>\n",
       "      <td>33667627</td>\n",
       "      <td>119.761181</td>\n",
       "      <td>120.401640</td>\n",
       "      <td>119.171406</td>\n",
       "      <td>119.669029</td>\n",
       "      <td>33667627</td>\n",
       "      <td>0.0</td>\n",
       "      <td>1.0</td>\n",
       "    </tr>\n",
       "    <tr>\n",
       "      <th>2015-06-03 00:00:00+00:00</th>\n",
       "      <td>130.120</td>\n",
       "      <td>130.940</td>\n",
       "      <td>129.90</td>\n",
       "      <td>130.66</td>\n",
       "      <td>30983542</td>\n",
       "      <td>119.908625</td>\n",
       "      <td>120.664274</td>\n",
       "      <td>119.705890</td>\n",
       "      <td>120.406248</td>\n",
       "      <td>30983542</td>\n",
       "      <td>0.0</td>\n",
       "      <td>1.0</td>\n",
       "    </tr>\n",
       "    <tr>\n",
       "      <th>2015-06-04 00:00:00+00:00</th>\n",
       "      <td>129.360</td>\n",
       "      <td>130.580</td>\n",
       "      <td>128.91</td>\n",
       "      <td>129.58</td>\n",
       "      <td>38450118</td>\n",
       "      <td>119.208267</td>\n",
       "      <td>120.332526</td>\n",
       "      <td>118.793582</td>\n",
       "      <td>119.411002</td>\n",
       "      <td>38450118</td>\n",
       "      <td>0.0</td>\n",
       "      <td>1.0</td>\n",
       "    </tr>\n",
       "    <tr>\n",
       "      <th>2015-06-05 00:00:00+00:00</th>\n",
       "      <td>128.650</td>\n",
       "      <td>129.690</td>\n",
       "      <td>128.36</td>\n",
       "      <td>129.50</td>\n",
       "      <td>35626800</td>\n",
       "      <td>118.553986</td>\n",
       "      <td>119.512370</td>\n",
       "      <td>118.286744</td>\n",
       "      <td>119.337280</td>\n",
       "      <td>35626800</td>\n",
       "      <td>0.0</td>\n",
       "      <td>1.0</td>\n",
       "    </tr>\n",
       "    <tr>\n",
       "      <th>...</th>\n",
       "      <td>...</td>\n",
       "      <td>...</td>\n",
       "      <td>...</td>\n",
       "      <td>...</td>\n",
       "      <td>...</td>\n",
       "      <td>...</td>\n",
       "      <td>...</td>\n",
       "      <td>...</td>\n",
       "      <td>...</td>\n",
       "      <td>...</td>\n",
       "      <td>...</td>\n",
       "      <td>...</td>\n",
       "    </tr>\n",
       "    <tr>\n",
       "      <th>2020-05-20 00:00:00+00:00</th>\n",
       "      <td>319.230</td>\n",
       "      <td>319.520</td>\n",
       "      <td>316.20</td>\n",
       "      <td>316.68</td>\n",
       "      <td>27876215</td>\n",
       "      <td>319.230000</td>\n",
       "      <td>319.520000</td>\n",
       "      <td>316.200000</td>\n",
       "      <td>316.680000</td>\n",
       "      <td>27876215</td>\n",
       "      <td>0.0</td>\n",
       "      <td>1.0</td>\n",
       "    </tr>\n",
       "    <tr>\n",
       "      <th>2020-05-21 00:00:00+00:00</th>\n",
       "      <td>316.850</td>\n",
       "      <td>320.890</td>\n",
       "      <td>315.87</td>\n",
       "      <td>318.66</td>\n",
       "      <td>25672211</td>\n",
       "      <td>316.850000</td>\n",
       "      <td>320.890000</td>\n",
       "      <td>315.870000</td>\n",
       "      <td>318.660000</td>\n",
       "      <td>25672211</td>\n",
       "      <td>0.0</td>\n",
       "      <td>1.0</td>\n",
       "    </tr>\n",
       "    <tr>\n",
       "      <th>2020-05-22 00:00:00+00:00</th>\n",
       "      <td>318.890</td>\n",
       "      <td>319.230</td>\n",
       "      <td>315.35</td>\n",
       "      <td>315.77</td>\n",
       "      <td>20450754</td>\n",
       "      <td>318.890000</td>\n",
       "      <td>319.230000</td>\n",
       "      <td>315.350000</td>\n",
       "      <td>315.770000</td>\n",
       "      <td>20450754</td>\n",
       "      <td>0.0</td>\n",
       "      <td>1.0</td>\n",
       "    </tr>\n",
       "    <tr>\n",
       "      <th>2020-05-26 00:00:00+00:00</th>\n",
       "      <td>316.730</td>\n",
       "      <td>324.240</td>\n",
       "      <td>316.50</td>\n",
       "      <td>323.50</td>\n",
       "      <td>31380454</td>\n",
       "      <td>316.730000</td>\n",
       "      <td>324.240000</td>\n",
       "      <td>316.500000</td>\n",
       "      <td>323.500000</td>\n",
       "      <td>31380454</td>\n",
       "      <td>0.0</td>\n",
       "      <td>1.0</td>\n",
       "    </tr>\n",
       "    <tr>\n",
       "      <th>2020-05-27 00:00:00+00:00</th>\n",
       "      <td>318.110</td>\n",
       "      <td>318.710</td>\n",
       "      <td>313.09</td>\n",
       "      <td>316.14</td>\n",
       "      <td>28236274</td>\n",
       "      <td>318.110000</td>\n",
       "      <td>318.710000</td>\n",
       "      <td>313.090000</td>\n",
       "      <td>316.140000</td>\n",
       "      <td>28236274</td>\n",
       "      <td>0.0</td>\n",
       "      <td>1.0</td>\n",
       "    </tr>\n",
       "  </tbody>\n",
       "</table>\n",
       "<p>1257 rows × 12 columns</p>\n",
       "</div>"
      ],
      "text/plain": [
       "                                    close     high     low    open    volume  \\\n",
       "symbol date                                                                    \n",
       "AAPL   2015-06-01 00:00:00+00:00  130.535  131.390  130.05  131.20  32112797   \n",
       "       2015-06-02 00:00:00+00:00  129.960  130.655  129.32  129.86  33667627   \n",
       "       2015-06-03 00:00:00+00:00  130.120  130.940  129.90  130.66  30983542   \n",
       "       2015-06-04 00:00:00+00:00  129.360  130.580  128.91  129.58  38450118   \n",
       "       2015-06-05 00:00:00+00:00  128.650  129.690  128.36  129.50  35626800   \n",
       "...                                   ...      ...     ...     ...       ...   \n",
       "       2020-05-20 00:00:00+00:00  319.230  319.520  316.20  316.68  27876215   \n",
       "       2020-05-21 00:00:00+00:00  316.850  320.890  315.87  318.66  25672211   \n",
       "       2020-05-22 00:00:00+00:00  318.890  319.230  315.35  315.77  20450754   \n",
       "       2020-05-26 00:00:00+00:00  316.730  324.240  316.50  323.50  31380454   \n",
       "       2020-05-27 00:00:00+00:00  318.110  318.710  313.09  316.14  28236274   \n",
       "\n",
       "                                    adjClose     adjHigh      adjLow  \\\n",
       "symbol date                                                            \n",
       "AAPL   2015-06-01 00:00:00+00:00  120.291057  121.078960  119.844118   \n",
       "       2015-06-02 00:00:00+00:00  119.761181  120.401640  119.171406   \n",
       "       2015-06-03 00:00:00+00:00  119.908625  120.664274  119.705890   \n",
       "       2015-06-04 00:00:00+00:00  119.208267  120.332526  118.793582   \n",
       "       2015-06-05 00:00:00+00:00  118.553986  119.512370  118.286744   \n",
       "...                                      ...         ...         ...   \n",
       "       2020-05-20 00:00:00+00:00  319.230000  319.520000  316.200000   \n",
       "       2020-05-21 00:00:00+00:00  316.850000  320.890000  315.870000   \n",
       "       2020-05-22 00:00:00+00:00  318.890000  319.230000  315.350000   \n",
       "       2020-05-26 00:00:00+00:00  316.730000  324.240000  316.500000   \n",
       "       2020-05-27 00:00:00+00:00  318.110000  318.710000  313.090000   \n",
       "\n",
       "                                     adjOpen  adjVolume  divCash  splitFactor  \n",
       "symbol date                                                                    \n",
       "AAPL   2015-06-01 00:00:00+00:00  120.903870   32112797      0.0          1.0  \n",
       "       2015-06-02 00:00:00+00:00  119.669029   33667627      0.0          1.0  \n",
       "       2015-06-03 00:00:00+00:00  120.406248   30983542      0.0          1.0  \n",
       "       2015-06-04 00:00:00+00:00  119.411002   38450118      0.0          1.0  \n",
       "       2015-06-05 00:00:00+00:00  119.337280   35626800      0.0          1.0  \n",
       "...                                      ...        ...      ...          ...  \n",
       "       2020-05-20 00:00:00+00:00  316.680000   27876215      0.0          1.0  \n",
       "       2020-05-21 00:00:00+00:00  318.660000   25672211      0.0          1.0  \n",
       "       2020-05-22 00:00:00+00:00  315.770000   20450754      0.0          1.0  \n",
       "       2020-05-26 00:00:00+00:00  323.500000   31380454      0.0          1.0  \n",
       "       2020-05-27 00:00:00+00:00  316.140000   28236274      0.0          1.0  \n",
       "\n",
       "[1257 rows x 12 columns]"
      ]
     },
     "execution_count": 6,
     "metadata": {},
     "output_type": "execute_result"
    }
   ],
   "source": [
    "df"
   ]
  },
  {
   "cell_type": "code",
   "execution_count": 7,
   "metadata": {},
   "outputs": [
    {
     "data": {
      "text/html": [
       "<div>\n",
       "<style scoped>\n",
       "    .dataframe tbody tr th:only-of-type {\n",
       "        vertical-align: middle;\n",
       "    }\n",
       "\n",
       "    .dataframe tbody tr th {\n",
       "        vertical-align: top;\n",
       "    }\n",
       "\n",
       "    .dataframe thead th {\n",
       "        text-align: right;\n",
       "    }\n",
       "</style>\n",
       "<table border=\"1\" class=\"dataframe\">\n",
       "  <thead>\n",
       "    <tr style=\"text-align: right;\">\n",
       "      <th></th>\n",
       "      <th></th>\n",
       "      <th>close</th>\n",
       "      <th>high</th>\n",
       "      <th>low</th>\n",
       "      <th>open</th>\n",
       "      <th>volume</th>\n",
       "      <th>adjClose</th>\n",
       "      <th>adjHigh</th>\n",
       "      <th>adjLow</th>\n",
       "      <th>adjOpen</th>\n",
       "      <th>adjVolume</th>\n",
       "      <th>divCash</th>\n",
       "      <th>splitFactor</th>\n",
       "    </tr>\n",
       "    <tr>\n",
       "      <th>symbol</th>\n",
       "      <th>date</th>\n",
       "      <th></th>\n",
       "      <th></th>\n",
       "      <th></th>\n",
       "      <th></th>\n",
       "      <th></th>\n",
       "      <th></th>\n",
       "      <th></th>\n",
       "      <th></th>\n",
       "      <th></th>\n",
       "      <th></th>\n",
       "      <th></th>\n",
       "      <th></th>\n",
       "    </tr>\n",
       "  </thead>\n",
       "  <tbody>\n",
       "    <tr>\n",
       "      <th rowspan=\"5\" valign=\"top\">AAPL</th>\n",
       "      <th>2020-05-20 00:00:00+00:00</th>\n",
       "      <td>319.23</td>\n",
       "      <td>319.52</td>\n",
       "      <td>316.20</td>\n",
       "      <td>316.68</td>\n",
       "      <td>27876215</td>\n",
       "      <td>319.23</td>\n",
       "      <td>319.52</td>\n",
       "      <td>316.20</td>\n",
       "      <td>316.68</td>\n",
       "      <td>27876215</td>\n",
       "      <td>0.0</td>\n",
       "      <td>1.0</td>\n",
       "    </tr>\n",
       "    <tr>\n",
       "      <th>2020-05-21 00:00:00+00:00</th>\n",
       "      <td>316.85</td>\n",
       "      <td>320.89</td>\n",
       "      <td>315.87</td>\n",
       "      <td>318.66</td>\n",
       "      <td>25672211</td>\n",
       "      <td>316.85</td>\n",
       "      <td>320.89</td>\n",
       "      <td>315.87</td>\n",
       "      <td>318.66</td>\n",
       "      <td>25672211</td>\n",
       "      <td>0.0</td>\n",
       "      <td>1.0</td>\n",
       "    </tr>\n",
       "    <tr>\n",
       "      <th>2020-05-22 00:00:00+00:00</th>\n",
       "      <td>318.89</td>\n",
       "      <td>319.23</td>\n",
       "      <td>315.35</td>\n",
       "      <td>315.77</td>\n",
       "      <td>20450754</td>\n",
       "      <td>318.89</td>\n",
       "      <td>319.23</td>\n",
       "      <td>315.35</td>\n",
       "      <td>315.77</td>\n",
       "      <td>20450754</td>\n",
       "      <td>0.0</td>\n",
       "      <td>1.0</td>\n",
       "    </tr>\n",
       "    <tr>\n",
       "      <th>2020-05-26 00:00:00+00:00</th>\n",
       "      <td>316.73</td>\n",
       "      <td>324.24</td>\n",
       "      <td>316.50</td>\n",
       "      <td>323.50</td>\n",
       "      <td>31380454</td>\n",
       "      <td>316.73</td>\n",
       "      <td>324.24</td>\n",
       "      <td>316.50</td>\n",
       "      <td>323.50</td>\n",
       "      <td>31380454</td>\n",
       "      <td>0.0</td>\n",
       "      <td>1.0</td>\n",
       "    </tr>\n",
       "    <tr>\n",
       "      <th>2020-05-27 00:00:00+00:00</th>\n",
       "      <td>318.11</td>\n",
       "      <td>318.71</td>\n",
       "      <td>313.09</td>\n",
       "      <td>316.14</td>\n",
       "      <td>28236274</td>\n",
       "      <td>318.11</td>\n",
       "      <td>318.71</td>\n",
       "      <td>313.09</td>\n",
       "      <td>316.14</td>\n",
       "      <td>28236274</td>\n",
       "      <td>0.0</td>\n",
       "      <td>1.0</td>\n",
       "    </tr>\n",
       "  </tbody>\n",
       "</table>\n",
       "</div>"
      ],
      "text/plain": [
       "                                   close    high     low    open    volume  \\\n",
       "symbol date                                                                  \n",
       "AAPL   2020-05-20 00:00:00+00:00  319.23  319.52  316.20  316.68  27876215   \n",
       "       2020-05-21 00:00:00+00:00  316.85  320.89  315.87  318.66  25672211   \n",
       "       2020-05-22 00:00:00+00:00  318.89  319.23  315.35  315.77  20450754   \n",
       "       2020-05-26 00:00:00+00:00  316.73  324.24  316.50  323.50  31380454   \n",
       "       2020-05-27 00:00:00+00:00  318.11  318.71  313.09  316.14  28236274   \n",
       "\n",
       "                                  adjClose  adjHigh  adjLow  adjOpen  \\\n",
       "symbol date                                                            \n",
       "AAPL   2020-05-20 00:00:00+00:00    319.23   319.52  316.20   316.68   \n",
       "       2020-05-21 00:00:00+00:00    316.85   320.89  315.87   318.66   \n",
       "       2020-05-22 00:00:00+00:00    318.89   319.23  315.35   315.77   \n",
       "       2020-05-26 00:00:00+00:00    316.73   324.24  316.50   323.50   \n",
       "       2020-05-27 00:00:00+00:00    318.11   318.71  313.09   316.14   \n",
       "\n",
       "                                  adjVolume  divCash  splitFactor  \n",
       "symbol date                                                        \n",
       "AAPL   2020-05-20 00:00:00+00:00   27876215      0.0          1.0  \n",
       "       2020-05-21 00:00:00+00:00   25672211      0.0          1.0  \n",
       "       2020-05-22 00:00:00+00:00   20450754      0.0          1.0  \n",
       "       2020-05-26 00:00:00+00:00   31380454      0.0          1.0  \n",
       "       2020-05-27 00:00:00+00:00   28236274      0.0          1.0  "
      ]
     },
     "execution_count": 7,
     "metadata": {},
     "output_type": "execute_result"
    }
   ],
   "source": [
    "df.tail()"
   ]
  },
  {
   "cell_type": "code",
   "execution_count": 8,
   "metadata": {},
   "outputs": [],
   "source": [
    "X=df.reset_index()['close']"
   ]
  },
  {
   "cell_type": "code",
   "execution_count": 9,
   "metadata": {},
   "outputs": [
    {
     "data": {
      "text/plain": [
       "(1257,)"
      ]
     },
     "execution_count": 9,
     "metadata": {},
     "output_type": "execute_result"
    }
   ],
   "source": [
    "X.shape"
   ]
  },
  {
   "cell_type": "code",
   "execution_count": 10,
   "metadata": {},
   "outputs": [
    {
     "data": {
      "text/plain": [
       "0       130.535\n",
       "1       129.960\n",
       "2       130.120\n",
       "3       129.360\n",
       "4       128.650\n",
       "         ...   \n",
       "1252    319.230\n",
       "1253    316.850\n",
       "1254    318.890\n",
       "1255    316.730\n",
       "1256    318.110\n",
       "Name: close, Length: 1257, dtype: float64"
      ]
     },
     "execution_count": 10,
     "metadata": {},
     "output_type": "execute_result"
    }
   ],
   "source": [
    "X"
   ]
  },
  {
   "cell_type": "code",
   "execution_count": 11,
   "metadata": {},
   "outputs": [],
   "source": [
    "import matplotlib.pyplot as plt"
   ]
  },
  {
   "cell_type": "code",
   "execution_count": 12,
   "metadata": {},
   "outputs": [
    {
     "data": {
      "text/plain": [
       "[<matplotlib.lines.Line2D at 0x62b0cea4e0>]"
      ]
     },
     "execution_count": 12,
     "metadata": {},
     "output_type": "execute_result"
    },
    {
     "data": {
      "image/png": "[encoded data removed]",
      "text/plain": [
       "<Figure size 432x288 with 1 Axes>"
      ]
     },
     "metadata": {
      "needs_background": "light"
     },
     "output_type": "display_data"
    }
   ],
   "source": [
    "plt.plot(X)"
   ]
  },
  {
   "cell_type": "code",
   "execution_count": 13,
   "metadata": {},
   "outputs": [],
   "source": [
    "import numpy as np\n",
    "from sklearn.preprocessing import MinMaxScaler"
   ]
  },
  {
   "cell_type": "code",
   "execution_count": 14,
   "metadata": {},
   "outputs": [],
   "source": [
    "mms=MinMaxScaler()"
   ]
  },
  {
   "cell_type": "code",
   "execution_count": 15,
   "metadata": {},
   "outputs": [],
   "source": [
    "X_arr=np.array(X).reshape(-1,1)"
   ]
  },
  {
   "cell_type": "code",
   "execution_count": 16,
   "metadata": {},
   "outputs": [
    {
     "data": {
      "text/plain": [
       "(1257, 1)"
      ]
     },
     "execution_count": 16,
     "metadata": {},
     "output_type": "execute_result"
    }
   ],
   "source": [
    "X_arr.shape"
   ]
  },
  {
   "cell_type": "code",
   "execution_count": 17,
   "metadata": {},
   "outputs": [],
   "source": [
    "scaled_X=mms.fit_transform(np.array(X_arr))"
   ]
  },
  {
   "cell_type": "code",
   "execution_count": 18,
   "metadata": {},
   "outputs": [],
   "source": [
    "# we divide into train and test split in serial order only as randomness would not predict more accurate result"
   ]
  },
  {
   "cell_type": "code",
   "execution_count": 19,
   "metadata": {},
   "outputs": [],
   "source": [
    "training_size=int(len(scaled_X)*0.65)"
   ]
  },
  {
   "cell_type": "code",
   "execution_count": 27,
   "metadata": {},
   "outputs": [],
   "source": [
    "X_train=X[:training_size][:]"
   ]
  },
  {
   "cell_type": "code",
   "execution_count": 29,
   "metadata": {},
   "outputs": [
    {
     "data": {
      "text/plain": [
       "(817,)"
      ]
     },
     "execution_count": 29,
     "metadata": {},
     "output_type": "execute_result"
    }
   ],
   "source": [
    "X_train.shape"
   ]
  },
  {
   "cell_type": "code",
   "execution_count": 32,
   "metadata": {},
   "outputs": [],
   "source": [
    "X_test=X[training_size:][:]"
   ]
  },
  {
   "cell_type": "code",
   "execution_count": 33,
   "metadata": {},
   "outputs": [
    {
     "data": {
      "text/plain": [
       "(440,)"
      ]
     },
     "execution_count": 33,
     "metadata": {},
     "output_type": "execute_result"
    }
   ],
   "source": [
    "X_test.shape"
   ]
  },
  {
   "cell_type": "code",
   "execution_count": 45,
   "metadata": {},
   "outputs": [],
   "source": [
    "def create_series(X):\n",
    "    dataset=[]\n",
    "\n",
    "    for i in range(101,len(X)):\n",
    "        temp=X[i-101:i]\n",
    "        dataset.append(temp)\n",
    "    return dataset\n",
    "        "
   ]
  },
  {
   "cell_type": "code",
   "execution_count": 51,
   "metadata": {},
   "outputs": [
    {
     "data": {
      "text/plain": [
       "716"
      ]
     },
     "execution_count": 51,
     "metadata": {},
     "output_type": "execute_result"
    }
   ],
   "source": [
    "len(create_series(X_train))"
   ]
  },
  {
   "cell_type": "code",
   "execution_count": null,
   "metadata": {},
   "outputs": [],
   "source": []
  }
 ],
 "metadata": {
  "kernelspec": {
   "display_name": "Python 3",
   "language": "python",
   "name": "python3"
  },
  "language_info": {
   "codemirror_mode": {
    "name": "ipython",
    "version": 3
   },
   "file_extension": ".py",
   "mimetype": "text/x-python",
   "name": "python",
   "nbconvert_exporter": "python",
   "pygments_lexer": "ipython3",
   "version": "3.7.3"
  }
 },
 "nbformat": 4,
 "nbformat_minor": 2
}
